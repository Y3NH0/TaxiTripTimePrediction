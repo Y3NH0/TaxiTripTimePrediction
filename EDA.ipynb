{
 "cells": [
  {
   "attachments": {},
   "cell_type": "markdown",
   "metadata": {},
   "source": [
    "# Import"
   ]
  },
  {
   "cell_type": "code",
   "execution_count": 2,
   "metadata": {},
   "outputs": [
    {
     "name": "stderr",
     "output_type": "stream",
     "text": [
      "/home/yenho/anaconda3/envs/yenho/lib/python3.10/site-packages/tqdm/auto.py:22: TqdmWarning: IProgress not found. Please update jupyter and ipywidgets. See https://ipywidgets.readthedocs.io/en/stable/user_install.html\n",
      "  from .autonotebook import tqdm as notebook_tqdm\n"
     ]
    }
   ],
   "source": [
    "import matplotlib.colors as mcolors\n",
    "import pandas as pd\n",
    "import numpy as np\n",
    "import sweetviz as sv\n"
   ]
  },
  {
   "attachments": {},
   "cell_type": "markdown",
   "metadata": {},
   "source": [
    "# func def."
   ]
  },
  {
   "cell_type": "code",
   "execution_count": 5,
   "metadata": {},
   "outputs": [],
   "source": [
    "def sweetviz_report_generation(cat_feature,num_featute,df,reportname):\n",
    "    feature_config = sv.FeatureConfig(\n",
    "                                  force_cat=cat_feature, # Categorical\n",
    "                                  force_num=num_featute # Numerical\n",
    "                                ) \n",
    "    report = sv.analyze([df, reportname],\n",
    "                                     target_feat='period', \n",
    "                                     feat_cfg=feature_config)\n",
    "                                     \n",
    "    report.show_html(filepath=reportname)"
   ]
  },
  {
   "attachments": {},
   "cell_type": "markdown",
   "metadata": {},
   "source": [
    "# 3 hours a group"
   ]
  },
  {
   "cell_type": "code",
   "execution_count": 21,
   "metadata": {},
   "outputs": [],
   "source": [
    "df = pd.read_csv('train_preprocessing.csv')\n",
    "df = df[['weekday','hour','month','period']]\n",
    "mapping = dict()\n",
    "h_g_list = []\n",
    "for i in range(8):\n",
    "    mapping[i*3] = i\n",
    "    mapping[i*3+1] = i\n",
    "    mapping[i*3+2] = i\n",
    "\n",
    "for i in df.index:\n",
    "  h_g_list.append(mapping[df['hour'][i]])\n",
    "df['hour_group'] = h_g_list\n"
   ]
  },
  {
   "cell_type": "code",
   "execution_count": 23,
   "metadata": {},
   "outputs": [
    {
     "name": "stderr",
     "output_type": "stream",
     "text": [
      "Done! Use 'show' commands to display/save.   |██████████| [100%]   00:00 -> (00:00 left)"
     ]
    },
    {
     "name": "stdout",
     "output_type": "stream",
     "text": [
      "Report HourGroupEDA.html was generated! NOTEBOOK/COLAB USERS: the web browser MAY not pop up, regardless, the report IS saved in your notebook/colab files.\n"
     ]
    },
    {
     "name": "stderr",
     "output_type": "stream",
     "text": [
      "\n"
     ]
    }
   ],
   "source": [
    "sweetviz_report_generation(\n",
    "    cat_feature=['weekday','hour_group','month'],\n",
    "    num_featute=['hour','period'],\n",
    "    df = df,\n",
    "    reportname='HourGroupEDA.html'\n",
    ")"
   ]
  },
  {
   "attachments": {},
   "cell_type": "markdown",
   "metadata": {},
   "source": [
    "# 3 hours a group"
   ]
  },
  {
   "cell_type": "code",
   "execution_count": 3,
   "metadata": {},
   "outputs": [],
   "source": [
    "df = pd.read_csv('train_preprocessing.csv')\n",
    "df = df[['weekday','hour','month','period']]\n",
    "mapping = dict()\n",
    "h_g_list = []\n",
    "for i in range(8):\n",
    "    mapping[i*3] = i\n",
    "    mapping[i*3+1] = i\n",
    "    mapping[i*3+2] = i\n",
    "\n",
    "for i in df.index:\n",
    "  h_g_list.append(mapping[df['hour'][i]])\n",
    "df['hour_group'] = h_g_list\n"
   ]
  },
  {
   "cell_type": "code",
   "execution_count": 6,
   "metadata": {},
   "outputs": [
    {
     "name": "stderr",
     "output_type": "stream",
     "text": [
      "Done! Use 'show' commands to display/save.   |██████████| [100%]   00:00 -> (00:00 left)\n"
     ]
    },
    {
     "name": "stdout",
     "output_type": "stream",
     "text": [
      "Report TimeStampEDA_num.html was generated! NOTEBOOK/COLAB USERS: the web browser MAY not pop up, regardless, the report IS saved in your notebook/colab files.\n"
     ]
    }
   ],
   "source": [
    "sweetviz_report_generation(\n",
    "    cat_feature=['hour_group'],\n",
    "    num_featute=['hour','month','weekday','period'],\n",
    "    df = df,\n",
    "    reportname='TimeStampEDA_num.html'\n",
    ")"
   ]
  },
  {
   "attachments": {},
   "cell_type": "markdown",
   "metadata": {},
   "source": [
    "# WEEKDAY"
   ]
  },
  {
   "cell_type": "code",
   "execution_count": 8,
   "metadata": {},
   "outputs": [],
   "source": [
    "from sklearn.cluster import KMeans"
   ]
  },
  {
   "cell_type": "code",
   "execution_count": 28,
   "metadata": {},
   "outputs": [
    {
     "data": {
      "text/html": [
       "<div>\n",
       "<style scoped>\n",
       "    .dataframe tbody tr th:only-of-type {\n",
       "        vertical-align: middle;\n",
       "    }\n",
       "\n",
       "    .dataframe tbody tr th {\n",
       "        vertical-align: top;\n",
       "    }\n",
       "\n",
       "    .dataframe thead th {\n",
       "        text-align: right;\n",
       "    }\n",
       "</style>\n",
       "<table border=\"1\" class=\"dataframe\">\n",
       "  <thead>\n",
       "    <tr style=\"text-align: right;\">\n",
       "      <th></th>\n",
       "      <th>TAXI_ID</th>\n",
       "      <th>CALL_TYPE_STAND</th>\n",
       "      <th>month</th>\n",
       "      <th>hour</th>\n",
       "      <th>weekday</th>\n",
       "      <th>start_lon</th>\n",
       "      <th>start_lat</th>\n",
       "      <th>end_lon</th>\n",
       "      <th>end_lat</th>\n",
       "      <th>StartCluster</th>\n",
       "      <th>EndCluster</th>\n",
       "      <th>distance</th>\n",
       "      <th>period</th>\n",
       "      <th>hour_group</th>\n",
       "      <th>weekday_group</th>\n",
       "    </tr>\n",
       "  </thead>\n",
       "  <tbody>\n",
       "    <tr>\n",
       "      <th>0</th>\n",
       "      <td>20000589</td>\n",
       "      <td>C</td>\n",
       "      <td>7</td>\n",
       "      <td>0</td>\n",
       "      <td>0</td>\n",
       "      <td>-8.618643</td>\n",
       "      <td>41.141412</td>\n",
       "      <td>-8.630838</td>\n",
       "      <td>41.154489</td>\n",
       "      <td>3</td>\n",
       "      <td>21</td>\n",
       "      <td>1.776808</td>\n",
       "      <td>330</td>\n",
       "      <td>0</td>\n",
       "      <td>1</td>\n",
       "    </tr>\n",
       "    <tr>\n",
       "      <th>1</th>\n",
       "      <td>20000596</td>\n",
       "      <td>B7.0</td>\n",
       "      <td>7</td>\n",
       "      <td>0</td>\n",
       "      <td>0</td>\n",
       "      <td>-8.639847</td>\n",
       "      <td>41.159826</td>\n",
       "      <td>-8.665740</td>\n",
       "      <td>41.170671</td>\n",
       "      <td>27</td>\n",
       "      <td>1</td>\n",
       "      <td>2.480360</td>\n",
       "      <td>270</td>\n",
       "      <td>0</td>\n",
       "      <td>1</td>\n",
       "    </tr>\n",
       "    <tr>\n",
       "      <th>2</th>\n",
       "      <td>20000520</td>\n",
       "      <td>C</td>\n",
       "      <td>7</td>\n",
       "      <td>0</td>\n",
       "      <td>0</td>\n",
       "      <td>-8.574678</td>\n",
       "      <td>41.151951</td>\n",
       "      <td>-8.607996</td>\n",
       "      <td>41.142915</td>\n",
       "      <td>17</td>\n",
       "      <td>42</td>\n",
       "      <td>2.965199</td>\n",
       "      <td>630</td>\n",
       "      <td>0</td>\n",
       "      <td>1</td>\n",
       "    </tr>\n",
       "    <tr>\n",
       "      <th>3</th>\n",
       "      <td>20000337</td>\n",
       "      <td>C</td>\n",
       "      <td>7</td>\n",
       "      <td>0</td>\n",
       "      <td>0</td>\n",
       "      <td>-8.645994</td>\n",
       "      <td>41.180490</td>\n",
       "      <td>-8.687268</td>\n",
       "      <td>41.178087</td>\n",
       "      <td>1</td>\n",
       "      <td>9</td>\n",
       "      <td>3.464589</td>\n",
       "      <td>420</td>\n",
       "      <td>0</td>\n",
       "      <td>1</td>\n",
       "    </tr>\n",
       "    <tr>\n",
       "      <th>4</th>\n",
       "      <td>20000231</td>\n",
       "      <td>C</td>\n",
       "      <td>7</td>\n",
       "      <td>0</td>\n",
       "      <td>0</td>\n",
       "      <td>-8.615502</td>\n",
       "      <td>41.140674</td>\n",
       "      <td>-8.578224</td>\n",
       "      <td>41.160717</td>\n",
       "      <td>3</td>\n",
       "      <td>22</td>\n",
       "      <td>3.835220</td>\n",
       "      <td>375</td>\n",
       "      <td>0</td>\n",
       "      <td>1</td>\n",
       "    </tr>\n",
       "    <tr>\n",
       "      <th>...</th>\n",
       "      <td>...</td>\n",
       "      <td>...</td>\n",
       "      <td>...</td>\n",
       "      <td>...</td>\n",
       "      <td>...</td>\n",
       "      <td>...</td>\n",
       "      <td>...</td>\n",
       "      <td>...</td>\n",
       "      <td>...</td>\n",
       "      <td>...</td>\n",
       "      <td>...</td>\n",
       "      <td>...</td>\n",
       "      <td>...</td>\n",
       "      <td>...</td>\n",
       "      <td>...</td>\n",
       "    </tr>\n",
       "    <tr>\n",
       "      <th>1458718</th>\n",
       "      <td>20000121</td>\n",
       "      <td>B9.0</td>\n",
       "      <td>6</td>\n",
       "      <td>19</td>\n",
       "      <td>0</td>\n",
       "      <td>-8.606385</td>\n",
       "      <td>41.144742</td>\n",
       "      <td>-8.670150</td>\n",
       "      <td>41.236866</td>\n",
       "      <td>42</td>\n",
       "      <td>8</td>\n",
       "      <td>11.550011</td>\n",
       "      <td>1050</td>\n",
       "      <td>2</td>\n",
       "      <td>1</td>\n",
       "    </tr>\n",
       "    <tr>\n",
       "      <th>1458719</th>\n",
       "      <td>20000698</td>\n",
       "      <td>C</td>\n",
       "      <td>6</td>\n",
       "      <td>23</td>\n",
       "      <td>0</td>\n",
       "      <td>-8.612469</td>\n",
       "      <td>41.146020</td>\n",
       "      <td>-8.611344</td>\n",
       "      <td>41.171013</td>\n",
       "      <td>28</td>\n",
       "      <td>45</td>\n",
       "      <td>2.780690</td>\n",
       "      <td>465</td>\n",
       "      <td>0</td>\n",
       "      <td>1</td>\n",
       "    </tr>\n",
       "    <tr>\n",
       "      <th>1458720</th>\n",
       "      <td>20000670</td>\n",
       "      <td>C</td>\n",
       "      <td>6</td>\n",
       "      <td>23</td>\n",
       "      <td>0</td>\n",
       "      <td>-8.610138</td>\n",
       "      <td>41.140845</td>\n",
       "      <td>-8.627454</td>\n",
       "      <td>41.158755</td>\n",
       "      <td>28</td>\n",
       "      <td>21</td>\n",
       "      <td>2.463359</td>\n",
       "      <td>435</td>\n",
       "      <td>0</td>\n",
       "      <td>1</td>\n",
       "    </tr>\n",
       "    <tr>\n",
       "      <th>1458721</th>\n",
       "      <td>20000248</td>\n",
       "      <td>B12.0</td>\n",
       "      <td>6</td>\n",
       "      <td>15</td>\n",
       "      <td>0</td>\n",
       "      <td>-8.630712</td>\n",
       "      <td>41.154885</td>\n",
       "      <td>-8.587026</td>\n",
       "      <td>41.173524</td>\n",
       "      <td>21</td>\n",
       "      <td>44</td>\n",
       "      <td>4.203449</td>\n",
       "      <td>915</td>\n",
       "      <td>3</td>\n",
       "      <td>1</td>\n",
       "    </tr>\n",
       "    <tr>\n",
       "      <th>1458722</th>\n",
       "      <td>20000079</td>\n",
       "      <td>B34.0</td>\n",
       "      <td>6</td>\n",
       "      <td>19</td>\n",
       "      <td>0</td>\n",
       "      <td>-8.615538</td>\n",
       "      <td>41.140629</td>\n",
       "      <td>-8.620893</td>\n",
       "      <td>41.149881</td>\n",
       "      <td>3</td>\n",
       "      <td>3</td>\n",
       "      <td>1.122248</td>\n",
       "      <td>390</td>\n",
       "      <td>2</td>\n",
       "      <td>1</td>\n",
       "    </tr>\n",
       "  </tbody>\n",
       "</table>\n",
       "<p>1458723 rows × 15 columns</p>\n",
       "</div>"
      ],
      "text/plain": [
       "          TAXI_ID CALL_TYPE_STAND  month  hour  weekday  start_lon  start_lat  \\\n",
       "0        20000589               C      7     0        0  -8.618643  41.141412   \n",
       "1        20000596            B7.0      7     0        0  -8.639847  41.159826   \n",
       "2        20000520               C      7     0        0  -8.574678  41.151951   \n",
       "3        20000337               C      7     0        0  -8.645994  41.180490   \n",
       "4        20000231               C      7     0        0  -8.615502  41.140674   \n",
       "...           ...             ...    ...   ...      ...        ...        ...   \n",
       "1458718  20000121            B9.0      6    19        0  -8.606385  41.144742   \n",
       "1458719  20000698               C      6    23        0  -8.612469  41.146020   \n",
       "1458720  20000670               C      6    23        0  -8.610138  41.140845   \n",
       "1458721  20000248           B12.0      6    15        0  -8.630712  41.154885   \n",
       "1458722  20000079           B34.0      6    19        0  -8.615538  41.140629   \n",
       "\n",
       "          end_lon    end_lat  StartCluster  EndCluster   distance  period  \\\n",
       "0       -8.630838  41.154489             3          21   1.776808     330   \n",
       "1       -8.665740  41.170671            27           1   2.480360     270   \n",
       "2       -8.607996  41.142915            17          42   2.965199     630   \n",
       "3       -8.687268  41.178087             1           9   3.464589     420   \n",
       "4       -8.578224  41.160717             3          22   3.835220     375   \n",
       "...           ...        ...           ...         ...        ...     ...   \n",
       "1458718 -8.670150  41.236866            42           8  11.550011    1050   \n",
       "1458719 -8.611344  41.171013            28          45   2.780690     465   \n",
       "1458720 -8.627454  41.158755            28          21   2.463359     435   \n",
       "1458721 -8.587026  41.173524            21          44   4.203449     915   \n",
       "1458722 -8.620893  41.149881             3           3   1.122248     390   \n",
       "\n",
       "         hour_group  weekday_group  \n",
       "0                 0              1  \n",
       "1                 0              1  \n",
       "2                 0              1  \n",
       "3                 0              1  \n",
       "4                 0              1  \n",
       "...             ...            ...  \n",
       "1458718           2              1  \n",
       "1458719           0              1  \n",
       "1458720           0              1  \n",
       "1458721           3              1  \n",
       "1458722           2              1  \n",
       "\n",
       "[1458723 rows x 15 columns]"
      ]
     },
     "execution_count": 28,
     "metadata": {},
     "output_type": "execute_result"
    }
   ],
   "source": [
    "df_tmp = pd.read_csv('train_preprocessing.csv')\n",
    "avg_period = dict()\n",
    "for i in range(7):\n",
    "    avg_period[i] = (sum(df_tmp[df_tmp.weekday == i].period)/len(df_tmp[df_tmp.weekday == i]))\n",
    "avg_period\n",
    "\n",
    "cluster=KMeans(n_clusters=2)\n",
    "cluster.fit([[v] for k,v in avg_period.items()])\n",
    "\n",
    "weekday_mapping = dict()\n",
    "for i in range(7):\n",
    "    weekday_mapping[i] = int(cluster.predict([[avg_period[i]]]))\n",
    "\n",
    "df_tmp['weekday_group'] = df_tmp['weekday'].apply(lambda x:weekday_mapping[x])"
   ]
  },
  {
   "cell_type": "code",
   "execution_count": null,
   "metadata": {},
   "outputs": [],
   "source": [
    "df = pd.read_csv('train_preprocessing.csv')\n",
    "df = df[['weekday','hour','month','period']]\n",
    "\n",
    "df['weekday']"
   ]
  }
 ],
 "metadata": {
  "kernelspec": {
   "display_name": "yenho",
   "language": "python",
   "name": "python3"
  },
  "language_info": {
   "codemirror_mode": {
    "name": "ipython",
    "version": 3
   },
   "file_extension": ".py",
   "mimetype": "text/x-python",
   "name": "python",
   "nbconvert_exporter": "python",
   "pygments_lexer": "ipython3",
   "version": "3.10.8 (main, Nov  4 2022, 13:48:29) [GCC 11.2.0]"
  },
  "orig_nbformat": 4,
  "vscode": {
   "interpreter": {
    "hash": "1a04660ba35f143b12381d39bd59efae17d696f3bd8e2f5d3aa4628a6f72f105"
   }
  }
 },
 "nbformat": 4,
 "nbformat_minor": 2
}
