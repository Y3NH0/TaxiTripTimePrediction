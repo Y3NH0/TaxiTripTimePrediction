{
 "cells": [
  {
   "cell_type": "code",
   "execution_count": 1,
   "id": "e647a695-e14a-4433-8a4b-a531555cc721",
   "metadata": {},
   "outputs": [],
   "source": [
    "import pandas as pd\n",
    "import datetime\n",
    "# import re\n",
    "import ast\n",
    "import numpy as np\n",
    "import time"
   ]
  },
  {
   "cell_type": "code",
   "execution_count": 2,
   "id": "ca5f63fd",
   "metadata": {},
   "outputs": [],
   "source": [
    "from sklearn.model_selection import train_test_split\n",
    "from sklearn.preprocessing import StandardScaler\n",
    "from sklearn.preprocessing import MinMaxScaler"
   ]
  },
  {
   "attachments": {},
   "cell_type": "markdown",
   "id": "933671dd",
   "metadata": {},
   "source": [
    "# Feature Vectorize func def"
   ]
  },
  {
   "attachments": {},
   "cell_type": "markdown",
   "id": "3f90949c",
   "metadata": {},
   "source": [
    "## WeekDay One-hot"
   ]
  },
  {
   "cell_type": "code",
   "execution_count": 3,
   "id": "cb50185d",
   "metadata": {},
   "outputs": [],
   "source": [
    "def week_onehot(train_x,test_x):\n",
    "    week= pd.concat([train_x['weekday'],test_x['weekday']])\n",
    "    week = pd.get_dummies(week,prefix='weekday')\n",
    "    train_x_week = week.iloc[:-320,:]\n",
    "    test_x_week = week.iloc[-320:,:]\n",
    "    train_x = train_x.drop(columns=['weekday'])\n",
    "    test_x = test_x.drop(columns=['weekday'])\n",
    "    train_x = pd.concat([train_x_week,train_x],axis=1)\n",
    "    test_x = pd.concat([test_x_week,test_x],axis=1)\n",
    "    return train_x,test_x"
   ]
  },
  {
   "cell_type": "code",
   "execution_count": 384,
   "id": "2df686ad",
   "metadata": {},
   "outputs": [],
   "source": [
    "# train_x,test_x = week_onehot(train_x,test_x)"
   ]
  },
  {
   "attachments": {},
   "cell_type": "markdown",
   "id": "1c966a46",
   "metadata": {},
   "source": [
    "## Month One-hot"
   ]
  },
  {
   "cell_type": "code",
   "execution_count": 4,
   "id": "2bfdb9f3",
   "metadata": {},
   "outputs": [],
   "source": [
    "def month_onehot(train_x,test_x):\n",
    "    month= pd.concat([train_x['month'],test_x['month']])\n",
    "    month = pd.get_dummies(month,prefix='month')\n",
    "    train_x_month = month.iloc[:-320,:]\n",
    "    test_x_month = month.iloc[-320:,:]\n",
    "    train_x = train_x.drop(columns=['month'])\n",
    "    test_x = test_x.drop(columns=['month'])\n",
    "    train_x = pd.concat([train_x_month,train_x],axis=1)\n",
    "    test_x = pd.concat([test_x_month,test_x],axis=1)\n",
    "    return train_x,test_x"
   ]
  },
  {
   "cell_type": "code",
   "execution_count": 389,
   "id": "f61fddd3",
   "metadata": {},
   "outputs": [],
   "source": [
    "# train_x,test_x = month_onehot(train_x,test_x)"
   ]
  },
  {
   "attachments": {},
   "cell_type": "markdown",
   "id": "3b1a2992",
   "metadata": {},
   "source": [
    "## Hour One-hot"
   ]
  },
  {
   "cell_type": "code",
   "execution_count": 5,
   "id": "ab9c0002",
   "metadata": {},
   "outputs": [],
   "source": [
    "def hour_onehot(train_x,test_x):\n",
    "    hour= pd.concat([train_x['hour'],test_x['hour']])\n",
    "    hour = pd.get_dummies(hour,prefix='hour')\n",
    "    train_x_hour = hour.iloc[:-320,:]\n",
    "    test_x_hour = hour.iloc[-320:,:]\n",
    "    train_x = train_x.drop(columns=['hour'])\n",
    "    test_x = test_x.drop(columns=['hour'])\n",
    "    train_x = pd.concat([train_x_hour,train_x],axis=1)\n",
    "    test_x = pd.concat([test_x_hour,test_x],axis=1)\n",
    "    return train_x,test_x"
   ]
  },
  {
   "cell_type": "code",
   "execution_count": 391,
   "id": "55db4034",
   "metadata": {},
   "outputs": [],
   "source": [
    "# train_x,test_x = hour_onehot(train_x,test_x)"
   ]
  },
  {
   "attachments": {},
   "cell_type": "markdown",
   "id": "d7a24d9a",
   "metadata": {},
   "source": [
    "## CallType&OgStand "
   ]
  },
  {
   "cell_type": "code",
   "execution_count": 6,
   "id": "79319d59",
   "metadata": {},
   "outputs": [],
   "source": [
    "def Vectorize_CallType(train_x,test_x):\n",
    "    callstand = pd.concat([train_x['CALL_TYPE_STAND'],test_x['CALL_TYPE_STAND']])\n",
    "    callstand = pd.get_dummies(callstand)\n",
    "    train_x_call = callstand.iloc[:-320,:]\n",
    "    test_x_call = callstand.iloc[-320:,:]\n",
    "    train_x = train_x.drop(columns=['CALL_TYPE_STAND'])\n",
    "    test_x = test_x.drop(columns=['CALL_TYPE_STAND'])\n",
    "    train_x = pd.concat([train_x_call,train_x],axis=1)\n",
    "    test_x = pd.concat([test_x_call,test_x],axis=1)\n",
    "    return train_x,test_x"
   ]
  },
  {
   "cell_type": "code",
   "execution_count": 393,
   "id": "a2ae3717",
   "metadata": {},
   "outputs": [],
   "source": [
    "# train_x,test_x = Vectorize_CallType(train_x,test_x)"
   ]
  },
  {
   "attachments": {},
   "cell_type": "markdown",
   "id": "58f381cf",
   "metadata": {},
   "source": [
    "## Cluster (One_hot)"
   ]
  },
  {
   "cell_type": "code",
   "execution_count": 7,
   "id": "999acf3b",
   "metadata": {},
   "outputs": [],
   "source": [
    "def Vectorize_Cluster_onehot(train_x,test_x,cluster_name):\n",
    "    cluster= pd.concat([train_x[cluster_name],test_x[cluster_name]])\n",
    "    cluster = pd.get_dummies(cluster,prefix=cluster_name)\n",
    "    train_x_cluster = cluster.iloc[:-320,:]\n",
    "    test_x_cluster = cluster.iloc[-320:,:]\n",
    "    train_x = train_x.drop(columns=[cluster_name])\n",
    "    test_x = test_x.drop(columns=[cluster_name])\n",
    "    train_x = pd.concat([train_x_cluster,train_x],axis=1)\n",
    "    test_x = pd.concat([test_x_cluster,test_x],axis=1)\n",
    "    return train_x,test_x"
   ]
  },
  {
   "attachments": {},
   "cell_type": "markdown",
   "id": "12452f9a",
   "metadata": {},
   "source": [
    "## Cluster (Freq) + Standard"
   ]
  },
  {
   "cell_type": "code",
   "execution_count": 8,
   "id": "dda00775",
   "metadata": {},
   "outputs": [],
   "source": [
    "def Vectorize_Cluster_freq(train_x,test_x):\n",
    "\n",
    "    # freq table\n",
    "    start_tmp = train_x.StartCluster.value_counts().to_dict()\n",
    "    end_tmp = train_x.EndCluster.value_counts().to_dict()\n",
    "    # freq -> prob\n",
    "    for i in start_tmp.keys():\n",
    "        start_tmp[i] /= max(train_x.StartCluster.value_counts().to_dict().values())\n",
    "    for i in end_tmp.keys():\n",
    "        end_tmp[i] /= max(train_x.EndCluster.value_counts().to_dict().values())\n",
    "        \n",
    "    train_x.StartCluster = train_x.StartCluster.map(start_tmp)\n",
    "    test_x.StartCluster = test_x.StartCluster.map(start_tmp)\n",
    "    train_x.EndCluster = train_x.EndCluster.map(end_tmp)\n",
    "    test_x.EndCluster = test_x.EndCluster.map(end_tmp)\n",
    "\n",
    "\n",
    "    return train_x,test_x"
   ]
  },
  {
   "cell_type": "code",
   "execution_count": 263,
   "id": "b40e0e3b",
   "metadata": {},
   "outputs": [],
   "source": [
    "# train_x,test_x = Vectorize_Cluster_hot(train_x,test_x,'StartCluster')\n",
    "# train_x,test_x = Vectorize_Cluster_hot(train_x,test_x,'EndCluster')\n",
    "# train_x,test_x = Vectorize_Cluster_freq(train_x,test_x)"
   ]
  },
  {
   "attachments": {},
   "cell_type": "markdown",
   "id": "8a9f5ef9",
   "metadata": {},
   "source": [
    "# func def."
   ]
  },
  {
   "attachments": {},
   "cell_type": "markdown",
   "id": "93a70e60",
   "metadata": {},
   "source": [
    "## init_train_test_data"
   ]
  },
  {
   "cell_type": "code",
   "execution_count": 9,
   "id": "48a6b087",
   "metadata": {},
   "outputs": [],
   "source": [
    "def init_train_test_data(distance_threshold = 1):\n",
    "    train_data = pd.read_csv('train_preprocessing.csv')\n",
    "    test_data = pd.read_csv('test_preprocessing.csv')\n",
    "    \n",
    "    train_data = train_data[train_data.distance >= distance_threshold]\n",
    "\n",
    "    feature_list = ['CALL_TYPE_STAND','month','hour','weekday','StartCluster', 'EndCluster','distance']\n",
    "    target = 'period'\n",
    "\n",
    "    train_x = train_data[feature_list] \n",
    "    train_y = train_data[target] \n",
    "    test_x = test_data[feature_list]\n",
    "\n",
    "    return train_x, train_y, test_x"
   ]
  },
  {
   "attachments": {},
   "cell_type": "markdown",
   "id": "d4895618",
   "metadata": {},
   "source": [
    "## my_train_validation_split"
   ]
  },
  {
   "cell_type": "code",
   "execution_count": 10,
   "id": "998d427e",
   "metadata": {},
   "outputs": [],
   "source": [
    "def my_train_validation_split(train_x,train_y,test_x):\n",
    "    train_x, val_x, train_y, val_y = train_test_split(train_x, np.array(train_y), test_size=0.3, random_state=1)\n",
    "    train_x = train_x.astype(np.float32)\n",
    "    train_y = train_y.astype(np.float32)\n",
    "    val_x = val_x.astype(np.float32)\n",
    "    val_y = val_y.astype(np.float32)\n",
    "    test_x = test_x.astype(np.float32)\n",
    "    print('train_x= ',train_x.shape)\n",
    "    print('train_y= ',train_y.shape)\n",
    "    print('val_x= ',val_x.shape)\n",
    "    print('val_y= ',val_y.shape)\n",
    "    print('test_x= ',test_x.shape)\n",
    "\n",
    "    return train_x,train_y,val_x,val_y,test_x"
   ]
  },
  {
   "attachments": {},
   "cell_type": "markdown",
   "id": "d016bb98",
   "metadata": {},
   "source": [
    "## pred_generate_result_csv"
   ]
  },
  {
   "cell_type": "code",
   "execution_count": 11,
   "id": "4fa15dbe",
   "metadata": {},
   "outputs": [],
   "source": [
    "def pred_generate_result_csv(model, test_x, result_file_name):\n",
    "    result = model.predict(test_x)\n",
    "    result_csv = pd.read_csv('submission.csv')\n",
    "    result_csv.TRAVEL_TIME = result\n",
    "    result_csv.to_csv(result_file_name, index=False)\n",
    "    return result_csv"
   ]
  },
  {
   "attachments": {},
   "cell_type": "markdown",
   "id": "4511cef5",
   "metadata": {},
   "source": [
    "## init_ANN_model"
   ]
  },
  {
   "cell_type": "code",
   "execution_count": 13,
   "id": "ba022be3",
   "metadata": {},
   "outputs": [],
   "source": [
    "from keras.models import Sequential\n",
    "from keras.layers.core import Dense, Dropout, Activation\n",
    "from keras.layers import Flatten\n",
    "from keras import backend as K\n",
    "def root_mean_squared_error(y_true, y_pred):\n",
    "        return K.sqrt(K.mean(K.square(y_pred - y_true))) \n",
    "\n",
    "def init_ANN_model(input_size):\n",
    "        model = Sequential()\n",
    "        model.add(Dense(units=256, input_dim=input_size, activation='relu')) \n",
    "        model.add(Dense(units=512, activation='relu'))\n",
    "        model.add(Dense(units=128, activation='relu'))\n",
    "        model.add(Dense(units=64, activation='relu'))\n",
    "        model.add(Dense(units=1,activation='linear'))\n",
    "        model.summary()\n",
    "        \n",
    "        model.compile(optimizer = \"adam\", loss = root_mean_squared_error, metrics =[root_mean_squared_error])\n",
    "        \n",
    "        return model"
   ]
  },
  {
   "attachments": {},
   "cell_type": "markdown",
   "id": "75b778c0",
   "metadata": {
    "tags": [
     "parameters"
    ]
   },
   "source": [
    "# 1 set\n",
    "\n",
    "|TAXI_ID|CALL_TYPE_STAND|month|hour|weekday|start_lon|start_lat|end_lon|end_lat|StartCluster|EndCluster|distance|\n",
    "|-------|---------------|-----|----|-------|---------|---------|-------|-------|------------|----------|--------|\n",
    "|x|one-hot|one-hot|one-hot|one-hot|x|x|x|x|freq+scaler|freq+scaler|num|"
   ]
  },
  {
   "attachments": {},
   "cell_type": "markdown",
   "id": "0f658195",
   "metadata": {},
   "source": [
    "## Read Data & Vectorize & Split"
   ]
  },
  {
   "cell_type": "code",
   "execution_count": 17,
   "id": "dd46d413",
   "metadata": {
    "tags": []
   },
   "outputs": [],
   "source": [
    "# read data\n",
    "train_x, train_y, test_x = init_train_test_data()\n",
    "\n",
    "# vectorize \n",
    "train_x,test_x = Vectorize_CallType(train_x, test_x)\n",
    "train_x,test_x = month_onehot(train_x,test_x)\n",
    "train_x,test_x = hour_onehot(train_x,test_x)\n",
    "train_x,test_x = week_onehot(train_x,test_x)\n",
    "train_x,test_x = Vectorize_Cluster_freq(train_x,test_x)\n",
    "\n",
    "# split\n",
    "train_x,train_y,val_x,val_y,test_x = my_train_validation_split(train_x, train_y, test_x)"
   ]
  },
  {
   "cell_type": "code",
   "execution_count": 31,
   "id": "bd0a0056",
   "metadata": {},
   "outputs": [
    {
     "name": "stdout",
     "output_type": "stream",
     "text": [
      "train_x.shape: (1021106, 112)\n",
      "test_x.shape: (320, 112)\n"
     ]
    }
   ],
   "source": [
    "print('train_x.shape:',train_x.shape)\n",
    "print('test_x.shape:',test_x.shape)"
   ]
  },
  {
   "attachments": {},
   "cell_type": "markdown",
   "id": "8deb8951",
   "metadata": {},
   "source": [
    "## modeling"
   ]
  },
  {
   "attachments": {},
   "cell_type": "markdown",
   "id": "820302ed",
   "metadata": {},
   "source": [
    "### init model"
   ]
  },
  {
   "cell_type": "code",
   "execution_count": 28,
   "id": "c7745ff3",
   "metadata": {},
   "outputs": [
    {
     "name": "stdout",
     "output_type": "stream",
     "text": [
      "Model: \"sequential_3\"\n",
      "_________________________________________________________________\n",
      " Layer (type)                Output Shape              Param #   \n",
      "=================================================================\n",
      " dense_15 (Dense)            (None, 256)               28928     \n",
      "                                                                 \n",
      " dense_16 (Dense)            (None, 512)               131584    \n",
      "                                                                 \n",
      " dense_17 (Dense)            (None, 128)               65664     \n",
      "                                                                 \n",
      " dense_18 (Dense)            (None, 64)                8256      \n",
      "                                                                 \n",
      " dense_19 (Dense)            (None, 1)                 65        \n",
      "                                                                 \n",
      "=================================================================\n",
      "Total params: 234,497\n",
      "Trainable params: 234,497\n",
      "Non-trainable params: 0\n",
      "_________________________________________________________________\n"
     ]
    }
   ],
   "source": [
    "model = init_ANN_model(input_size=train_x.shape[1])"
   ]
  },
  {
   "attachments": {},
   "cell_type": "markdown",
   "id": "0b2df786",
   "metadata": {},
   "source": [
    "### training & testing(for kaggle submission)"
   ]
  },
  {
   "cell_type": "code",
   "execution_count": 29,
   "id": "adb72508",
   "metadata": {},
   "outputs": [
    {
     "name": "stdout",
     "output_type": "stream",
     "text": [
      "Epoch 1/30\n",
      "31910/31910 [==============================] - 105s 3ms/step - loss: 214.6263 - mae: 214.6263\n",
      "Epoch 2/30\n",
      "31910/31910 [==============================] - 127s 4ms/step - loss: 210.1447 - mae: 210.1447\n",
      "Epoch 3/30\n",
      "31910/31910 [==============================] - 119s 4ms/step - loss: 208.8684 - mae: 208.8684\n",
      "Epoch 4/30\n",
      "31910/31910 [==============================] - 127s 4ms/step - loss: 208.0051 - mae: 208.0051\n",
      "Epoch 5/30\n",
      "31910/31910 [==============================] - 125s 4ms/step - loss: 207.3734 - mae: 207.3734\n",
      "Epoch 6/30\n",
      "31910/31910 [==============================] - 128s 4ms/step - loss: 206.8831 - mae: 206.8831\n",
      "Epoch 7/30\n",
      "31910/31910 [==============================] - 128s 4ms/step - loss: 206.4468 - mae: 206.4468\n",
      "Epoch 8/30\n",
      "31910/31910 [==============================] - 126s 4ms/step - loss: 206.0505 - mae: 206.0505\n",
      "Epoch 9/30\n",
      "31910/31910 [==============================] - 128s 4ms/step - loss: 205.7554 - mae: 205.7554\n",
      "Epoch 10/30\n",
      "31910/31910 [==============================] - 128s 4ms/step - loss: 205.4530 - mae: 205.4530\n",
      "Epoch 11/30\n",
      "31910/31910 [==============================] - 128s 4ms/step - loss: 205.1677 - mae: 205.1677\n",
      "Epoch 12/30\n",
      "31910/31910 [==============================] - 129s 4ms/step - loss: 204.9569 - mae: 204.9569\n",
      "Epoch 13/30\n",
      "31910/31910 [==============================] - 128s 4ms/step - loss: 204.7061 - mae: 204.7061\n",
      "Epoch 14/30\n",
      "31910/31910 [==============================] - 128s 4ms/step - loss: 204.4932 - mae: 204.4932\n",
      "Epoch 15/30\n",
      "31910/31910 [==============================] - 127s 4ms/step - loss: 204.3321 - mae: 204.3321\n",
      "Epoch 16/30\n",
      "31910/31910 [==============================] - 129s 4ms/step - loss: 204.1702 - mae: 204.1702\n",
      "Epoch 17/30\n",
      "31910/31910 [==============================] - 129s 4ms/step - loss: 203.9845 - mae: 203.9845\n",
      "Epoch 18/30\n",
      "31910/31910 [==============================] - 127s 4ms/step - loss: 203.7820 - mae: 203.7820\n",
      "Epoch 19/30\n",
      "31910/31910 [==============================] - 129s 4ms/step - loss: 203.6116 - mae: 203.6116\n",
      "Epoch 20/30\n",
      "31910/31910 [==============================] - 128s 4ms/step - loss: 203.4896 - mae: 203.4896\n",
      "Epoch 21/30\n",
      "31910/31910 [==============================] - 128s 4ms/step - loss: 203.3012 - mae: 203.3012\n",
      "Epoch 22/30\n",
      "31910/31910 [==============================] - 127s 4ms/step - loss: 203.1441 - mae: 203.1441\n",
      "Epoch 23/30\n",
      "31910/31910 [==============================] - 128s 4ms/step - loss: 202.9727 - mae: 202.9727\n",
      "Epoch 24/30\n",
      "31910/31910 [==============================] - 128s 4ms/step - loss: 202.8772 - mae: 202.8772\n",
      "Epoch 25/30\n",
      "31910/31910 [==============================] - 127s 4ms/step - loss: 202.7082 - mae: 202.7082\n",
      "Epoch 26/30\n",
      "31910/31910 [==============================] - 129s 4ms/step - loss: 202.5582 - mae: 202.5582\n",
      "Epoch 27/30\n",
      "31910/31910 [==============================] - 128s 4ms/step - loss: 202.4418 - mae: 202.4418\n",
      "Epoch 28/30\n",
      "31910/31910 [==============================] - 128s 4ms/step - loss: 202.2692 - mae: 202.2692\n",
      "Epoch 29/30\n",
      "31910/31910 [==============================] - 127s 4ms/step - loss: 202.1519 - mae: 202.1519\n",
      "Epoch 30/30\n",
      "31910/31910 [==============================] - 128s 4ms/step - loss: 202.0448 - mae: 202.0448\n",
      "13676/13676 [==============================] - 8s 568us/step - loss: 207.4039 - mae: 207.4039\n"
     ]
    }
   ],
   "source": [
    "model.fit(train_x, train_y, epochs=30)\n",
    "result = model.evaluate(val_x, val_y)"
   ]
  },
  {
   "attachments": {},
   "cell_type": "markdown",
   "id": "871c1660",
   "metadata": {},
   "source": [
    "### generate submission csv file"
   ]
  },
  {
   "cell_type": "code",
   "execution_count": 30,
   "id": "b458e3e8",
   "metadata": {},
   "outputs": [
    {
     "name": "stdout",
     "output_type": "stream",
     "text": [
      "10/10 [==============================] - 0s 568us/step\n"
     ]
    }
   ],
   "source": [
    "pred_csv = pred_generate_result_csv(\n",
    "                                    model = model,\n",
    "                                    test_x = test_x,\n",
    "                                    result_file_name = 'ANN_result/ANN_result_1.csv'\n",
    "                                )"
   ]
  },
  {
   "attachments": {},
   "cell_type": "markdown",
   "id": "75b778c0",
   "metadata": {
    "tags": [
     "parameters"
    ]
   },
   "source": [
    "# 2 set\n",
    "\n",
    "|TAXI_ID|CALL_TYPE_STAND|month|hour|weekday|start_lon|start_lat|end_lon|end_lat|StartCluster|EndCluster|distance|\n",
    "|-------|---------------|-----|----|-------|---------|---------|-------|-------|------------|----------|--------|\n",
    "|x|one-hot|one-hot|one-hot|one-hot|x|x|x|x|one-hot|one-hot|num|"
   ]
  },
  {
   "attachments": {},
   "cell_type": "markdown",
   "id": "0f658195",
   "metadata": {},
   "source": [
    "## Read Data & Vectorize & Split"
   ]
  },
  {
   "cell_type": "code",
   "execution_count": 34,
   "id": "dd46d413",
   "metadata": {
    "tags": []
   },
   "outputs": [
    {
     "name": "stdout",
     "output_type": "stream",
     "text": [
      "train_x=  (1021106, 207)\n",
      "train_y=  (1021106,)\n",
      "val_x=  (437617, 207)\n",
      "val_y=  (437617,)\n",
      "test_x=  (320, 207)\n"
     ]
    }
   ],
   "source": [
    "# read data\n",
    "train_x, train_y, test_x = init_train_test_data()\n",
    "\n",
    "# vectorize \n",
    "train_x,test_x = Vectorize_CallType(train_x, test_x)\n",
    "train_x,test_x = month_onehot(train_x,test_x)\n",
    "train_x,test_x = hour_onehot(train_x,test_x)\n",
    "train_x,test_x = week_onehot(train_x,test_x)\n",
    "train_x,test_x = Vectorize_Cluster_onehot(train_x,test_x,'StartCluster')\n",
    "train_x,test_x = Vectorize_Cluster_onehot(train_x,test_x,'EndCluster')\n",
    "\n",
    "# split\n",
    "train_x,train_y,val_x,val_y,test_x = my_train_validation_split(train_x, train_y, test_x)"
   ]
  },
  {
   "attachments": {},
   "cell_type": "markdown",
   "id": "8deb8951",
   "metadata": {},
   "source": [
    "## modeling"
   ]
  },
  {
   "attachments": {},
   "cell_type": "markdown",
   "id": "820302ed",
   "metadata": {},
   "source": [
    "### init model"
   ]
  },
  {
   "cell_type": "code",
   "execution_count": 36,
   "id": "c7745ff3",
   "metadata": {},
   "outputs": [
    {
     "name": "stdout",
     "output_type": "stream",
     "text": [
      "Model: \"sequential_4\"\n",
      "_________________________________________________________________\n",
      " Layer (type)                Output Shape              Param #   \n",
      "=================================================================\n",
      " dense_20 (Dense)            (None, 256)               53248     \n",
      "                                                                 \n",
      " dense_21 (Dense)            (None, 512)               131584    \n",
      "                                                                 \n",
      " dense_22 (Dense)            (None, 128)               65664     \n",
      "                                                                 \n",
      " dense_23 (Dense)            (None, 64)                8256      \n",
      "                                                                 \n",
      " dense_24 (Dense)            (None, 1)                 65        \n",
      "                                                                 \n",
      "=================================================================\n",
      "Total params: 258,817\n",
      "Trainable params: 258,817\n",
      "Non-trainable params: 0\n",
      "_________________________________________________________________\n"
     ]
    }
   ],
   "source": [
    "model = init_ANN_model(input_size=train_x.shape[1])"
   ]
  },
  {
   "attachments": {},
   "cell_type": "markdown",
   "id": "0b2df786",
   "metadata": {},
   "source": [
    "### training & testing(for kaggle submission)"
   ]
  },
  {
   "cell_type": "code",
   "execution_count": 37,
   "id": "adb72508",
   "metadata": {},
   "outputs": [
    {
     "name": "stdout",
     "output_type": "stream",
     "text": [
      "Epoch 1/30\n",
      "31910/31910 [==============================] - 133s 4ms/step - loss: 206.1937 - mae: 206.1937\n",
      "Epoch 2/30\n",
      "31910/31910 [==============================] - 134s 4ms/step - loss: 200.3613 - mae: 200.3613\n",
      "Epoch 3/30\n",
      "31910/31910 [==============================] - 133s 4ms/step - loss: 198.6178 - mae: 198.6178\n",
      "Epoch 4/30\n",
      "31910/31910 [==============================] - 133s 4ms/step - loss: 197.4351 - mae: 197.4351\n",
      "Epoch 5/30\n",
      "31910/31910 [==============================] - 133s 4ms/step - loss: 196.6043 - mae: 196.6043\n",
      "Epoch 6/30\n",
      "31910/31910 [==============================] - 134s 4ms/step - loss: 195.9162 - mae: 195.9162\n",
      "Epoch 7/30\n",
      "31910/31910 [==============================] - 133s 4ms/step - loss: 195.3133 - mae: 195.3133\n",
      "Epoch 8/30\n",
      "31910/31910 [==============================] - 133s 4ms/step - loss: 194.7909 - mae: 194.7909\n",
      "Epoch 9/30\n",
      "31910/31910 [==============================] - 134s 4ms/step - loss: 194.4030 - mae: 194.4030\n",
      "Epoch 10/30\n",
      "31910/31910 [==============================] - 133s 4ms/step - loss: 193.9463 - mae: 193.9463\n",
      "Epoch 11/30\n",
      "31910/31910 [==============================] - 134s 4ms/step - loss: 193.5848 - mae: 193.5848\n",
      "Epoch 12/30\n",
      "31910/31910 [==============================] - 132s 4ms/step - loss: 193.2202 - mae: 193.2202\n",
      "Epoch 13/30\n",
      "31910/31910 [==============================] - 133s 4ms/step - loss: 192.8508 - mae: 192.8508\n",
      "Epoch 14/30\n",
      "31910/31910 [==============================] - 134s 4ms/step - loss: 192.5597 - mae: 192.5597\n",
      "Epoch 15/30\n",
      "31910/31910 [==============================] - 133s 4ms/step - loss: 192.2757 - mae: 192.2757\n",
      "Epoch 16/30\n",
      "31910/31910 [==============================] - 133s 4ms/step - loss: 191.9586 - mae: 191.9586\n",
      "Epoch 17/30\n",
      "31910/31910 [==============================] - 121s 4ms/step - loss: 191.6337 - mae: 191.6337\n",
      "Epoch 18/30\n",
      "31910/31910 [==============================] - 131s 4ms/step - loss: 191.3816 - mae: 191.3816\n",
      "Epoch 19/30\n",
      "31910/31910 [==============================] - 132s 4ms/step - loss: 191.0779 - mae: 191.0779\n",
      "Epoch 20/30\n",
      "31910/31910 [==============================] - 132s 4ms/step - loss: 190.8248 - mae: 190.8248\n",
      "Epoch 21/30\n",
      "31910/31910 [==============================] - 133s 4ms/step - loss: 190.5842 - mae: 190.5842\n",
      "Epoch 22/30\n",
      "31910/31910 [==============================] - 130s 4ms/step - loss: 190.2923 - mae: 190.2923\n",
      "Epoch 23/30\n",
      "31910/31910 [==============================] - 132s 4ms/step - loss: 190.0940 - mae: 190.0940\n",
      "Epoch 24/30\n",
      "31910/31910 [==============================] - 133s 4ms/step - loss: 189.7887 - mae: 189.7887\n",
      "Epoch 25/30\n",
      "31910/31910 [==============================] - 132s 4ms/step - loss: 189.5298 - mae: 189.5298\n",
      "Epoch 26/30\n",
      "31910/31910 [==============================] - 132s 4ms/step - loss: 189.3173 - mae: 189.3173\n",
      "Epoch 27/30\n",
      "31910/31910 [==============================] - 132s 4ms/step - loss: 189.1186 - mae: 189.1186\n",
      "Epoch 28/30\n",
      "31910/31910 [==============================] - 133s 4ms/step - loss: 188.8397 - mae: 188.8397\n",
      "Epoch 29/30\n",
      "31910/31910 [==============================] - 131s 4ms/step - loss: 188.6373 - mae: 188.6373\n",
      "Epoch 30/30\n",
      "31910/31910 [==============================] - 130s 4ms/step - loss: 188.4407 - mae: 188.4407\n",
      "13676/13676 [==============================] - 8s 567us/step - loss: 198.4307 - mae: 198.4307\n"
     ]
    }
   ],
   "source": [
    "model.fit(train_x, train_y, epochs=30)\n",
    "result = model.evaluate(val_x, val_y)"
   ]
  },
  {
   "attachments": {},
   "cell_type": "markdown",
   "id": "871c1660",
   "metadata": {},
   "source": [
    "### generate submission csv file"
   ]
  },
  {
   "cell_type": "code",
   "execution_count": 39,
   "id": "b458e3e8",
   "metadata": {},
   "outputs": [
    {
     "name": "stdout",
     "output_type": "stream",
     "text": [
      "10/10 [==============================] - 0s 806us/step\n"
     ]
    }
   ],
   "source": [
    "pred_csv = pred_generate_result_csv(\n",
    "                                    model = model,\n",
    "                                    test_x = test_x,\n",
    "                                    result_file_name = 'ANN_result/ANN_result_2.csv'\n",
    "                                )"
   ]
  },
  {
   "attachments": {},
   "cell_type": "markdown",
   "id": "75b778c0",
   "metadata": {
    "tags": [
     "parameters"
    ]
   },
   "source": [
    "# 3 set\n",
    "\n",
    "|TAXI_ID|CALL_TYPE_STAND|month|hour|weekday|start_lon|start_lat|end_lon|end_lat|StartCluster|EndCluster|distance|\n",
    "|-------|---------------|-----|----|-------|---------|---------|-------|-------|------------|----------|--------|\n",
    "|x|one-hot|one-hot|one-hot|one-hot|x|x|x|x|freq+scaler&one-hot|freq+scaler&one-hot|num|"
   ]
  },
  {
   "attachments": {},
   "cell_type": "markdown",
   "id": "0f658195",
   "metadata": {},
   "source": [
    "## Read Data & Vectorize & Split"
   ]
  },
  {
   "cell_type": "code",
   "execution_count": 50,
   "id": "dd46d413",
   "metadata": {
    "tags": []
   },
   "outputs": [
    {
     "name": "stdout",
     "output_type": "stream",
     "text": [
      "train_x=  (1021106, 209)\n",
      "train_y=  (1021106,)\n",
      "val_x=  (437617, 209)\n",
      "val_y=  (437617,)\n",
      "test_x=  (320, 209)\n"
     ]
    }
   ],
   "source": [
    "# read data\n",
    "train_x, train_y, test_x = init_train_test_data()\n",
    "\n",
    "# vectorize \n",
    "train_x,test_x = Vectorize_CallType(train_x, test_x)\n",
    "train_x,test_x = month_onehot(train_x,test_x)\n",
    "train_x,test_x = hour_onehot(train_x,test_x)\n",
    "train_x,test_x = week_onehot(train_x,test_x)\n",
    "train_x,test_x = Vectorize_Cluster_onehot(train_x,test_x,cluster_name='EndCluster')\n",
    "train_x,test_x = Vectorize_Cluster_onehot(train_x,test_x,cluster_name='StartCluster')\n",
    "\n",
    "train_tmp,test_y_tmp, test_tmp = init_train_test_data()\n",
    "train_tmp,test_tmp = Vectorize_Cluster_freq(train_tmp,test_tmp)\n",
    "train_x[['StartCluster','EndCluster']] = train_tmp[['StartCluster','EndCluster']]\n",
    "test_x[['StartCluster','EndCluster']] = test_tmp[['StartCluster','EndCluster']]\n",
    "\n",
    "# split\n",
    "train_x,train_y,val_x,val_y,test_x = my_train_validation_split(train_x, train_y, test_x)"
   ]
  },
  {
   "attachments": {},
   "cell_type": "markdown",
   "id": "8deb8951",
   "metadata": {},
   "source": [
    "## modeling"
   ]
  },
  {
   "attachments": {},
   "cell_type": "markdown",
   "id": "820302ed",
   "metadata": {},
   "source": [
    "### init model"
   ]
  },
  {
   "cell_type": "code",
   "execution_count": 52,
   "id": "c7745ff3",
   "metadata": {},
   "outputs": [
    {
     "name": "stdout",
     "output_type": "stream",
     "text": [
      "Model: \"sequential_5\"\n",
      "_________________________________________________________________\n",
      " Layer (type)                Output Shape              Param #   \n",
      "=================================================================\n",
      " dense_25 (Dense)            (None, 256)               53760     \n",
      "                                                                 \n",
      " dense_26 (Dense)            (None, 512)               131584    \n",
      "                                                                 \n",
      " dense_27 (Dense)            (None, 128)               65664     \n",
      "                                                                 \n",
      " dense_28 (Dense)            (None, 64)                8256      \n",
      "                                                                 \n",
      " dense_29 (Dense)            (None, 1)                 65        \n",
      "                                                                 \n",
      "=================================================================\n",
      "Total params: 259,329\n",
      "Trainable params: 259,329\n",
      "Non-trainable params: 0\n",
      "_________________________________________________________________\n"
     ]
    }
   ],
   "source": [
    "model = init_ANN_model(input_size=train_x.shape[1])"
   ]
  },
  {
   "attachments": {},
   "cell_type": "markdown",
   "id": "0b2df786",
   "metadata": {},
   "source": [
    "### training & testing(for kaggle submission)"
   ]
  },
  {
   "cell_type": "code",
   "execution_count": 53,
   "id": "adb72508",
   "metadata": {},
   "outputs": [
    {
     "name": "stdout",
     "output_type": "stream",
     "text": [
      "Epoch 1/30\n",
      "31910/31910 [==============================] - 119s 4ms/step - loss: 206.2387 - mae: 206.2387\n",
      "Epoch 2/30\n",
      "31910/31910 [==============================] - 129s 4ms/step - loss: 200.3591 - mae: 200.3591\n",
      "Epoch 3/30\n",
      "31910/31910 [==============================] - 132s 4ms/step - loss: 198.6504 - mae: 198.6504\n",
      "Epoch 4/30\n",
      "31910/31910 [==============================] - 123s 4ms/step - loss: 197.5896 - mae: 197.5896\n",
      "Epoch 5/30\n",
      "31910/31910 [==============================] - 132s 4ms/step - loss: 196.8134 - mae: 196.8134\n",
      "Epoch 6/30\n",
      "31910/31910 [==============================] - 134s 4ms/step - loss: 196.0532 - mae: 196.0532\n",
      "Epoch 7/30\n",
      "31910/31910 [==============================] - 133s 4ms/step - loss: 195.5550 - mae: 195.5550\n",
      "Epoch 8/30\n",
      "31910/31910 [==============================] - 133s 4ms/step - loss: 194.9715 - mae: 194.9715\n",
      "Epoch 9/30\n",
      "31910/31910 [==============================] - 131s 4ms/step - loss: 194.5414 - mae: 194.5414\n",
      "Epoch 10/30\n",
      "31910/31910 [==============================] - 134s 4ms/step - loss: 194.1318 - mae: 194.1318\n",
      "Epoch 11/30\n",
      "31910/31910 [==============================] - 133s 4ms/step - loss: 193.7497 - mae: 193.7497\n",
      "Epoch 12/30\n",
      "31910/31910 [==============================] - 134s 4ms/step - loss: 193.4353 - mae: 193.4353\n",
      "Epoch 13/30\n",
      "31910/31910 [==============================] - 133s 4ms/step - loss: 193.1191 - mae: 193.1191\n",
      "Epoch 14/30\n",
      "31910/31910 [==============================] - 118s 4ms/step - loss: 192.8133 - mae: 192.8133\n",
      "Epoch 15/30\n",
      "31910/31910 [==============================] - 130s 4ms/step - loss: 192.4924 - mae: 192.4924\n",
      "Epoch 16/30\n",
      "31910/31910 [==============================] - 133s 4ms/step - loss: 192.2161 - mae: 192.2161\n",
      "Epoch 17/30\n",
      "31910/31910 [==============================] - 130s 4ms/step - loss: 191.8825 - mae: 191.8825\n",
      "Epoch 18/30\n",
      "31910/31910 [==============================] - 131s 4ms/step - loss: 191.6493 - mae: 191.6493\n",
      "Epoch 19/30\n",
      "31910/31910 [==============================] - 90s 3ms/step - loss: 191.4044 - mae: 191.4044\n",
      "Epoch 20/30\n",
      "31910/31910 [==============================] - 49s 2ms/step - loss: 191.1628 - mae: 191.1628\n",
      "Epoch 21/30\n",
      "31910/31910 [==============================] - 32s 1ms/step - loss: 190.8823 - mae: 190.8823\n",
      "Epoch 22/30\n",
      "31910/31910 [==============================] - 33s 1ms/step - loss: 190.6440 - mae: 190.6440\n",
      "Epoch 23/30\n",
      "31910/31910 [==============================] - 33s 1ms/step - loss: 190.4163 - mae: 190.4163\n",
      "Epoch 24/30\n",
      "31910/31910 [==============================] - 33s 1ms/step - loss: 190.2166 - mae: 190.2166\n",
      "Epoch 25/30\n",
      "31910/31910 [==============================] - 33s 1ms/step - loss: 189.9958 - mae: 189.9958\n",
      "Epoch 26/30\n",
      "31910/31910 [==============================] - 34s 1ms/step - loss: 189.7347 - mae: 189.7347\n",
      "Epoch 27/30\n",
      "31910/31910 [==============================] - 33s 1ms/step - loss: 189.5269 - mae: 189.5269\n",
      "Epoch 28/30\n",
      "31910/31910 [==============================] - 33s 1ms/step - loss: 189.3003 - mae: 189.3003\n",
      "Epoch 29/30\n",
      "31910/31910 [==============================] - 33s 1ms/step - loss: 189.1272 - mae: 189.1272\n",
      "Epoch 30/30\n",
      "31910/31910 [==============================] - 33s 1ms/step - loss: 188.9162 - mae: 188.9162\n",
      "13676/13676 [==============================] - 6s 419us/step - loss: 198.5808 - mae: 198.5808\n"
     ]
    }
   ],
   "source": [
    "model.fit(train_x, train_y, epochs=30)\n",
    "result = model.evaluate(val_x, val_y)"
   ]
  },
  {
   "attachments": {},
   "cell_type": "markdown",
   "id": "871c1660",
   "metadata": {},
   "source": [
    "### generate submission csv file"
   ]
  },
  {
   "cell_type": "code",
   "execution_count": 54,
   "id": "b458e3e8",
   "metadata": {},
   "outputs": [
    {
     "name": "stdout",
     "output_type": "stream",
     "text": [
      "10/10 [==============================] - 0s 590us/step\n"
     ]
    }
   ],
   "source": [
    "pred_csv = pred_generate_result_csv(\n",
    "                                    model = model,\n",
    "                                    test_x = test_x,\n",
    "                                    result_file_name = 'ANN_result/ANN_result_3.csv'\n",
    "                                )"
   ]
  },
  {
   "attachments": {},
   "cell_type": "markdown",
   "id": "75b778c0",
   "metadata": {
    "tags": [
     "parameters"
    ]
   },
   "source": [
    "# 1a set\n",
    "\n",
    "* training set -> drop distance < 3\n",
    "\n",
    "|TAXI_ID|CALL_TYPE_STAND|month|hour|weekday|start_lon|start_lat|end_lon|end_lat|StartCluster|EndCluster|distance|\n",
    "|-------|---------------|-----|----|-------|---------|---------|-------|-------|------------|----------|--------|\n",
    "|x|one-hot|one-hot|one-hot|one-hot|x|x|x|x|freq+scaler|freq+scaler|num|"
   ]
  },
  {
   "attachments": {},
   "cell_type": "markdown",
   "id": "0f658195",
   "metadata": {},
   "source": [
    "## Read Data & Vectorize & Split"
   ]
  },
  {
   "cell_type": "code",
   "execution_count": 57,
   "id": "dd46d413",
   "metadata": {
    "tags": []
   },
   "outputs": [
    {
     "name": "stdout",
     "output_type": "stream",
     "text": [
      "train_x=  (500153, 112)\n",
      "train_y=  (500153,)\n",
      "val_x=  (214352, 112)\n",
      "val_y=  (214352,)\n",
      "test_x=  (320, 112)\n"
     ]
    }
   ],
   "source": [
    "# read data\n",
    "train_x, train_y, test_x = init_train_test_data(distance_threshold=3)\n",
    "\n",
    "# vectorize \n",
    "train_x,test_x = Vectorize_CallType(train_x, test_x)\n",
    "train_x,test_x = month_onehot(train_x,test_x)\n",
    "train_x,test_x = hour_onehot(train_x,test_x)\n",
    "train_x,test_x = week_onehot(train_x,test_x)\n",
    "train_x,test_x = Vectorize_Cluster_freq(train_x,test_x)\n",
    "\n",
    "# split\n",
    "train_x,train_y,val_x,val_y,test_x = my_train_validation_split(train_x, train_y, test_x)"
   ]
  },
  {
   "attachments": {},
   "cell_type": "markdown",
   "id": "8deb8951",
   "metadata": {},
   "source": [
    "## modeling"
   ]
  },
  {
   "attachments": {},
   "cell_type": "markdown",
   "id": "820302ed",
   "metadata": {},
   "source": [
    "### init model"
   ]
  },
  {
   "cell_type": "code",
   "execution_count": 64,
   "id": "c7745ff3",
   "metadata": {},
   "outputs": [
    {
     "name": "stdout",
     "output_type": "stream",
     "text": [
      "Model: \"sequential_8\"\n",
      "_________________________________________________________________\n",
      " Layer (type)                Output Shape              Param #   \n",
      "=================================================================\n",
      " dense_40 (Dense)            (None, 256)               28928     \n",
      "                                                                 \n",
      " dense_41 (Dense)            (None, 512)               131584    \n",
      "                                                                 \n",
      " dense_42 (Dense)            (None, 128)               65664     \n",
      "                                                                 \n",
      " dense_43 (Dense)            (None, 64)                8256      \n",
      "                                                                 \n",
      " dense_44 (Dense)            (None, 1)                 65        \n",
      "                                                                 \n",
      "=================================================================\n",
      "Total params: 234,497\n",
      "Trainable params: 234,497\n",
      "Non-trainable params: 0\n",
      "_________________________________________________________________\n"
     ]
    }
   ],
   "source": [
    "model = init_ANN_model(input_size=train_x.shape[1])"
   ]
  },
  {
   "attachments": {},
   "cell_type": "markdown",
   "id": "0b2df786",
   "metadata": {},
   "source": [
    "### training & testing(for kaggle submission)"
   ]
  },
  {
   "cell_type": "code",
   "execution_count": 65,
   "id": "adb72508",
   "metadata": {},
   "outputs": [
    {
     "name": "stdout",
     "output_type": "stream",
     "text": [
      "Epoch 1/30\n",
      "15630/15630 [==============================] - 38s 2ms/step - loss: 444.2148 - root_mean_squared_error: 444.2157\n",
      "Epoch 2/30\n",
      "15630/15630 [==============================] - 35s 2ms/step - loss: 436.6612 - root_mean_squared_error: 436.6595\n",
      "Epoch 3/30\n",
      "15630/15630 [==============================] - 40s 3ms/step - loss: 434.8879 - root_mean_squared_error: 434.8860\n",
      "Epoch 4/30\n",
      "15630/15630 [==============================] - 39s 2ms/step - loss: 433.5261 - root_mean_squared_error: 433.5262\n",
      "Epoch 5/30\n",
      "15630/15630 [==============================] - 38s 2ms/step - loss: 432.5371 - root_mean_squared_error: 432.5362\n",
      "Epoch 6/30\n",
      "15630/15630 [==============================] - 37s 2ms/step - loss: 431.5971 - root_mean_squared_error: 431.5982\n",
      "Epoch 7/30\n",
      "15630/15630 [==============================] - 37s 2ms/step - loss: 431.1142 - root_mean_squared_error: 431.1119\n",
      "Epoch 8/30\n",
      "15630/15630 [==============================] - 39s 2ms/step - loss: 430.4144 - root_mean_squared_error: 430.4121\n",
      "Epoch 9/30\n",
      "15630/15630 [==============================] - 40s 3ms/step - loss: 429.9183 - root_mean_squared_error: 429.9163\n",
      "Epoch 10/30\n",
      "15630/15630 [==============================] - 36s 2ms/step - loss: 429.2943 - root_mean_squared_error: 429.2924\n",
      "Epoch 11/30\n",
      "15630/15630 [==============================] - 38s 2ms/step - loss: 428.7812 - root_mean_squared_error: 428.7822\n",
      "Epoch 12/30\n",
      "15630/15630 [==============================] - 34s 2ms/step - loss: 428.3389 - root_mean_squared_error: 428.3358\n",
      "Epoch 13/30\n",
      "15630/15630 [==============================] - 37s 2ms/step - loss: 427.7662 - root_mean_squared_error: 427.7634\n",
      "Epoch 14/30\n",
      "15630/15630 [==============================] - 40s 3ms/step - loss: 427.2013 - root_mean_squared_error: 427.2037\n",
      "Epoch 15/30\n",
      "15630/15630 [==============================] - 38s 2ms/step - loss: 427.7817 - root_mean_squared_error: 427.7833\n",
      "Epoch 16/30\n",
      "15630/15630 [==============================] - 38s 2ms/step - loss: 426.3399 - root_mean_squared_error: 426.3385\n",
      "Epoch 17/30\n",
      "15630/15630 [==============================] - 38s 2ms/step - loss: 426.5407 - root_mean_squared_error: 426.5403\n",
      "Epoch 18/30\n",
      "15630/15630 [==============================] - 37s 2ms/step - loss: 425.9976 - root_mean_squared_error: 426.0022\n",
      "Epoch 19/30\n",
      "15630/15630 [==============================] - 38s 2ms/step - loss: 426.1320 - root_mean_squared_error: 426.1315\n",
      "Epoch 20/30\n",
      "15630/15630 [==============================] - 38s 2ms/step - loss: 424.8824 - root_mean_squared_error: 424.8791\n",
      "Epoch 21/30\n",
      "15630/15630 [==============================] - 35s 2ms/step - loss: 425.7433 - root_mean_squared_error: 425.7460\n",
      "Epoch 22/30\n",
      "15630/15630 [==============================] - 38s 2ms/step - loss: 425.0722 - root_mean_squared_error: 425.0689\n",
      "Epoch 23/30\n",
      "15630/15630 [==============================] - 40s 3ms/step - loss: 424.6474 - root_mean_squared_error: 424.6459\n",
      "Epoch 24/30\n",
      "15630/15630 [==============================] - 38s 2ms/step - loss: 424.6975 - root_mean_squared_error: 424.7294\n",
      "Epoch 25/30\n",
      "15630/15630 [==============================] - 38s 2ms/step - loss: 424.2663 - root_mean_squared_error: 424.2647\n",
      "Epoch 26/30\n",
      "15630/15630 [==============================] - 40s 3ms/step - loss: 424.2968 - root_mean_squared_error: 424.2950\n",
      "Epoch 27/30\n",
      "15630/15630 [==============================] - 38s 2ms/step - loss: 423.8644 - root_mean_squared_error: 423.8634\n",
      "Epoch 28/30\n",
      "15630/15630 [==============================] - 38s 2ms/step - loss: 423.3350 - root_mean_squared_error: 423.3376\n",
      "Epoch 29/30\n",
      "15630/15630 [==============================] - 36s 2ms/step - loss: 423.3884 - root_mean_squared_error: 423.3874\n",
      "Epoch 30/30\n",
      "15630/15630 [==============================] - 36s 2ms/step - loss: 422.4190 - root_mean_squared_error: 422.4178\n",
      "6699/6699 [==============================] - 5s 775us/step - loss: 432.3689 - root_mean_squared_error: 432.3536\n"
     ]
    }
   ],
   "source": [
    "model.fit(train_x, train_y, epochs=30)\n",
    "result = model.evaluate(val_x, val_y)"
   ]
  },
  {
   "attachments": {},
   "cell_type": "markdown",
   "id": "871c1660",
   "metadata": {},
   "source": [
    "### generate submission csv file"
   ]
  },
  {
   "cell_type": "code",
   "execution_count": 67,
   "id": "b458e3e8",
   "metadata": {},
   "outputs": [
    {
     "name": "stdout",
     "output_type": "stream",
     "text": [
      "10/10 [==============================] - 0s 777us/step\n"
     ]
    }
   ],
   "source": [
    "pred_csv = pred_generate_result_csv(\n",
    "                                    model = model,\n",
    "                                    test_x = test_x,\n",
    "                                    result_file_name = 'ANN_result/ANN_result_1a.csv'\n",
    "                                )"
   ]
  },
  {
   "attachments": {},
   "cell_type": "markdown",
   "id": "94633ac2",
   "metadata": {},
   "source": [
    "# 2a set\n",
    "\n",
    "* training set -> drop distance < 3\n",
    "\n",
    "\n",
    "|TAXI_ID|CALL_TYPE_STAND|month|hour|weekday|start_lon|start_lat|end_lon|end_lat|StartCluster|EndCluster|distance|\n",
    "|-------|---------------|-----|----|-------|---------|---------|-------|-------|------------|----------|--------|\n",
    "|x|one-hot|one-hot|one-hot|one-hot|x|x|x|x|one-hot|one-hot|num|"
   ]
  },
  {
   "attachments": {},
   "cell_type": "markdown",
   "id": "0f658195",
   "metadata": {},
   "source": [
    "## Read Data & Vectorize & Split"
   ]
  },
  {
   "cell_type": "code",
   "execution_count": 69,
   "id": "dd46d413",
   "metadata": {
    "tags": []
   },
   "outputs": [
    {
     "name": "stdout",
     "output_type": "stream",
     "text": [
      "train_x=  (500153, 207)\n",
      "train_y=  (500153,)\n",
      "val_x=  (214352, 207)\n",
      "val_y=  (214352,)\n",
      "test_x=  (320, 207)\n"
     ]
    }
   ],
   "source": [
    "# read data\n",
    "train_x, train_y, test_x = init_train_test_data(distance_threshold=3)\n",
    "\n",
    "# vectorize \n",
    "train_x,test_x = Vectorize_CallType(train_x, test_x)\n",
    "train_x,test_x = month_onehot(train_x,test_x)\n",
    "train_x,test_x = hour_onehot(train_x,test_x)\n",
    "train_x,test_x = week_onehot(train_x,test_x)\n",
    "train_x,test_x = Vectorize_Cluster_onehot(train_x,test_x,'StartCluster')\n",
    "train_x,test_x = Vectorize_Cluster_onehot(train_x,test_x,'EndCluster')\n",
    "\n",
    "# split\n",
    "train_x,train_y,val_x,val_y,test_x = my_train_validation_split(train_x, train_y, test_x)"
   ]
  },
  {
   "attachments": {},
   "cell_type": "markdown",
   "id": "8deb8951",
   "metadata": {},
   "source": [
    "## modeling"
   ]
  },
  {
   "attachments": {},
   "cell_type": "markdown",
   "id": "820302ed",
   "metadata": {},
   "source": [
    "### init model"
   ]
  },
  {
   "cell_type": "code",
   "execution_count": 70,
   "id": "c7745ff3",
   "metadata": {},
   "outputs": [
    {
     "name": "stdout",
     "output_type": "stream",
     "text": [
      "Model: \"sequential_9\"\n",
      "_________________________________________________________________\n",
      " Layer (type)                Output Shape              Param #   \n",
      "=================================================================\n",
      " dense_45 (Dense)            (None, 256)               53248     \n",
      "                                                                 \n",
      " dense_46 (Dense)            (None, 512)               131584    \n",
      "                                                                 \n",
      " dense_47 (Dense)            (None, 128)               65664     \n",
      "                                                                 \n",
      " dense_48 (Dense)            (None, 64)                8256      \n",
      "                                                                 \n",
      " dense_49 (Dense)            (None, 1)                 65        \n",
      "                                                                 \n",
      "=================================================================\n",
      "Total params: 258,817\n",
      "Trainable params: 258,817\n",
      "Non-trainable params: 0\n",
      "_________________________________________________________________\n"
     ]
    }
   ],
   "source": [
    "model = init_ANN_model(input_size=train_x.shape[1])"
   ]
  },
  {
   "attachments": {},
   "cell_type": "markdown",
   "id": "0b2df786",
   "metadata": {},
   "source": [
    "### training & testing(for kaggle submission)"
   ]
  },
  {
   "cell_type": "code",
   "execution_count": 71,
   "id": "adb72508",
   "metadata": {},
   "outputs": [
    {
     "name": "stdout",
     "output_type": "stream",
     "text": [
      "Epoch 1/30\n",
      "15630/15630 [==============================] - 59s 4ms/step - loss: 434.5826 - root_mean_squared_error: 434.5803\n",
      "Epoch 2/30\n",
      "15630/15630 [==============================] - 63s 4ms/step - loss: 424.1892 - root_mean_squared_error: 424.1892\n",
      "Epoch 3/30\n",
      "15630/15630 [==============================] - 56s 4ms/step - loss: 420.7697 - root_mean_squared_error: 420.7687\n",
      "Epoch 4/30\n",
      "15630/15630 [==============================] - 62s 4ms/step - loss: 418.2771 - root_mean_squared_error: 418.2791\n",
      "Epoch 5/30\n",
      "15630/15630 [==============================] - 64s 4ms/step - loss: 416.8339 - root_mean_squared_error: 416.8351\n",
      "Epoch 6/30\n",
      "15630/15630 [==============================] - 65s 4ms/step - loss: 415.1255 - root_mean_squared_error: 415.1234\n",
      "Epoch 7/30\n",
      "15630/15630 [==============================] - 65s 4ms/step - loss: 413.3127 - root_mean_squared_error: 413.3099\n",
      "Epoch 8/30\n",
      "15630/15630 [==============================] - 64s 4ms/step - loss: 412.4010 - root_mean_squared_error: 412.3991\n",
      "Epoch 9/30\n",
      "15630/15630 [==============================] - 65s 4ms/step - loss: 411.4470 - root_mean_squared_error: 411.4531\n",
      "Epoch 10/30\n",
      "15630/15630 [==============================] - 64s 4ms/step - loss: 409.7713 - root_mean_squared_error: 409.7707\n",
      "Epoch 11/30\n",
      "15630/15630 [==============================] - 60s 4ms/step - loss: 408.9196 - root_mean_squared_error: 408.9310\n",
      "Epoch 12/30\n",
      "15630/15630 [==============================] - 63s 4ms/step - loss: 407.4277 - root_mean_squared_error: 407.4252\n",
      "Epoch 13/30\n",
      "15630/15630 [==============================] - 59s 4ms/step - loss: 405.8860 - root_mean_squared_error: 405.8832\n",
      "Epoch 14/30\n",
      "15630/15630 [==============================] - 64s 4ms/step - loss: 404.1786 - root_mean_squared_error: 404.1808\n",
      "Epoch 15/30\n",
      "15630/15630 [==============================] - 64s 4ms/step - loss: 403.3317 - root_mean_squared_error: 403.3293\n",
      "Epoch 16/30\n",
      "15630/15630 [==============================] - 64s 4ms/step - loss: 402.5805 - root_mean_squared_error: 402.5777\n",
      "Epoch 17/30\n",
      "15630/15630 [==============================] - 63s 4ms/step - loss: 400.7363 - root_mean_squared_error: 400.7363\n",
      "Epoch 18/30\n",
      "15630/15630 [==============================] - 64s 4ms/step - loss: 399.6816 - root_mean_squared_error: 399.6795\n",
      "Epoch 19/30\n",
      "15630/15630 [==============================] - 64s 4ms/step - loss: 398.1812 - root_mean_squared_error: 398.1813\n",
      "Epoch 20/30\n",
      "15630/15630 [==============================] - 64s 4ms/step - loss: 397.4256 - root_mean_squared_error: 397.4246\n",
      "Epoch 21/30\n",
      "15630/15630 [==============================] - 64s 4ms/step - loss: 396.2660 - root_mean_squared_error: 396.2697\n",
      "Epoch 22/30\n",
      "15630/15630 [==============================] - 65s 4ms/step - loss: 394.5525 - root_mean_squared_error: 394.5495\n",
      "Epoch 23/30\n",
      "15630/15630 [==============================] - 64s 4ms/step - loss: 393.0768 - root_mean_squared_error: 393.0737\n",
      "Epoch 24/30\n",
      "15630/15630 [==============================] - 64s 4ms/step - loss: 391.7738 - root_mean_squared_error: 391.7717\n",
      "Epoch 25/30\n",
      "15630/15630 [==============================] - 65s 4ms/step - loss: 390.7109 - root_mean_squared_error: 390.7097\n",
      "Epoch 26/30\n",
      "15630/15630 [==============================] - 65s 4ms/step - loss: 389.2889 - root_mean_squared_error: 389.2871\n",
      "Epoch 27/30\n",
      "15630/15630 [==============================] - 65s 4ms/step - loss: 388.2702 - root_mean_squared_error: 388.2714\n",
      "Epoch 28/30\n",
      "15630/15630 [==============================] - 64s 4ms/step - loss: 386.7387 - root_mean_squared_error: 386.7364\n",
      "Epoch 29/30\n",
      "15630/15630 [==============================] - 64s 4ms/step - loss: 385.4489 - root_mean_squared_error: 385.4465\n",
      "Epoch 30/30\n",
      "15630/15630 [==============================] - 63s 4ms/step - loss: 384.4052 - root_mean_squared_error: 384.4060\n",
      "6699/6699 [==============================] - 4s 554us/step - loss: 425.6133 - root_mean_squared_error: 425.5967\n"
     ]
    }
   ],
   "source": [
    "model.fit(train_x, train_y, epochs=30)\n",
    "result = model.evaluate(val_x, val_y)"
   ]
  },
  {
   "attachments": {},
   "cell_type": "markdown",
   "id": "871c1660",
   "metadata": {},
   "source": [
    "### generate submission csv file"
   ]
  },
  {
   "cell_type": "code",
   "execution_count": 72,
   "id": "b458e3e8",
   "metadata": {},
   "outputs": [
    {
     "name": "stdout",
     "output_type": "stream",
     "text": [
      "10/10 [==============================] - 0s 521us/step\n"
     ]
    }
   ],
   "source": [
    "pred_csv = pred_generate_result_csv(\n",
    "                                    model = model,\n",
    "                                    test_x = test_x,\n",
    "                                    result_file_name = 'ANN_result/ANN_result_2a.csv'\n",
    "                                )"
   ]
  },
  {
   "attachments": {},
   "cell_type": "markdown",
   "id": "75b778c0",
   "metadata": {
    "tags": [
     "parameters"
    ]
   },
   "source": [
    "# 3a set\n",
    "\n",
    "* training set -> drop distance < 3\n",
    "\n",
    "|TAXI_ID|CALL_TYPE_STAND|month|hour|weekday|start_lon|start_lat|end_lon|end_lat|StartCluster|EndCluster|distance|\n",
    "|-------|---------------|-----|----|-------|---------|---------|-------|-------|------------|----------|--------|\n",
    "|x|one-hot|one-hot|one-hot|one-hot|x|x|x|x|freq+scaler&one-hot|freq+scaler&one-hot|num|"
   ]
  },
  {
   "attachments": {},
   "cell_type": "markdown",
   "id": "0f658195",
   "metadata": {},
   "source": [
    "## Read Data & Vectorize & Split"
   ]
  },
  {
   "cell_type": "code",
   "execution_count": 73,
   "id": "dd46d413",
   "metadata": {
    "tags": []
   },
   "outputs": [
    {
     "name": "stdout",
     "output_type": "stream",
     "text": [
      "train_x=  (500153, 209)\n",
      "train_y=  (500153,)\n",
      "val_x=  (214352, 209)\n",
      "val_y=  (214352,)\n",
      "test_x=  (320, 209)\n"
     ]
    }
   ],
   "source": [
    "# read data\n",
    "train_x, train_y, test_x = init_train_test_data(distance_threshold=3)\n",
    "\n",
    "# vectorize \n",
    "train_x,test_x = Vectorize_CallType(train_x, test_x)\n",
    "train_x,test_x = month_onehot(train_x,test_x)\n",
    "train_x,test_x = hour_onehot(train_x,test_x)\n",
    "train_x,test_x = week_onehot(train_x,test_x)\n",
    "train_x,test_x = Vectorize_Cluster_onehot(train_x,test_x,cluster_name='EndCluster')\n",
    "train_x,test_x = Vectorize_Cluster_onehot(train_x,test_x,cluster_name='StartCluster')\n",
    "\n",
    "train_tmp,test_y_tmp, test_tmp = init_train_test_data()\n",
    "train_tmp,test_tmp = Vectorize_Cluster_freq(train_tmp,test_tmp)\n",
    "train_x[['StartCluster','EndCluster']] = train_tmp[['StartCluster','EndCluster']]\n",
    "test_x[['StartCluster','EndCluster']] = test_tmp[['StartCluster','EndCluster']]\n",
    "\n",
    "# split\n",
    "train_x,train_y,val_x,val_y,test_x = my_train_validation_split(train_x, train_y, test_x)"
   ]
  },
  {
   "attachments": {},
   "cell_type": "markdown",
   "id": "8deb8951",
   "metadata": {},
   "source": [
    "## modeling"
   ]
  },
  {
   "attachments": {},
   "cell_type": "markdown",
   "id": "820302ed",
   "metadata": {},
   "source": [
    "### init model"
   ]
  },
  {
   "cell_type": "code",
   "execution_count": 74,
   "id": "c7745ff3",
   "metadata": {},
   "outputs": [
    {
     "name": "stdout",
     "output_type": "stream",
     "text": [
      "Model: \"sequential_10\"\n",
      "_________________________________________________________________\n",
      " Layer (type)                Output Shape              Param #   \n",
      "=================================================================\n",
      " dense_50 (Dense)            (None, 256)               53760     \n",
      "                                                                 \n",
      " dense_51 (Dense)            (None, 512)               131584    \n",
      "                                                                 \n",
      " dense_52 (Dense)            (None, 128)               65664     \n",
      "                                                                 \n",
      " dense_53 (Dense)            (None, 64)                8256      \n",
      "                                                                 \n",
      " dense_54 (Dense)            (None, 1)                 65        \n",
      "                                                                 \n",
      "=================================================================\n",
      "Total params: 259,329\n",
      "Trainable params: 259,329\n",
      "Non-trainable params: 0\n",
      "_________________________________________________________________\n"
     ]
    }
   ],
   "source": [
    "model = init_ANN_model(input_size=train_x.shape[1])"
   ]
  },
  {
   "attachments": {},
   "cell_type": "markdown",
   "id": "0b2df786",
   "metadata": {},
   "source": [
    "### training & testing(for kaggle submission)"
   ]
  },
  {
   "cell_type": "code",
   "execution_count": 75,
   "id": "adb72508",
   "metadata": {},
   "outputs": [
    {
     "name": "stdout",
     "output_type": "stream",
     "text": [
      "Epoch 1/30\n",
      "15630/15630 [==============================] - 62s 4ms/step - loss: 434.7606 - root_mean_squared_error: 434.7598\n",
      "Epoch 2/30\n",
      "15630/15630 [==============================] - 61s 4ms/step - loss: 424.2763 - root_mean_squared_error: 424.2751\n",
      "Epoch 3/30\n",
      "15630/15630 [==============================] - 62s 4ms/step - loss: 420.3688 - root_mean_squared_error: 420.3651\n",
      "Epoch 4/30\n",
      "15630/15630 [==============================] - 61s 4ms/step - loss: 418.9516 - root_mean_squared_error: 418.9513\n",
      "Epoch 5/30\n",
      "15630/15630 [==============================] - 61s 4ms/step - loss: 417.8646 - root_mean_squared_error: 417.8623\n",
      "Epoch 6/30\n",
      "15630/15630 [==============================] - 61s 4ms/step - loss: 415.3125 - root_mean_squared_error: 415.3108\n",
      "Epoch 7/30\n",
      "15630/15630 [==============================] - 61s 4ms/step - loss: 414.0913 - root_mean_squared_error: 414.0889\n",
      "Epoch 8/30\n",
      "15630/15630 [==============================] - 61s 4ms/step - loss: 412.6131 - root_mean_squared_error: 412.6225\n",
      "Epoch 9/30\n",
      "15630/15630 [==============================] - 61s 4ms/step - loss: 411.4462 - root_mean_squared_error: 411.4436\n",
      "Epoch 10/30\n",
      "15630/15630 [==============================] - 62s 4ms/step - loss: 410.4825 - root_mean_squared_error: 410.4824\n",
      "Epoch 11/30\n",
      "15630/15630 [==============================] - 60s 4ms/step - loss: 408.5827 - root_mean_squared_error: 408.5833\n",
      "Epoch 12/30\n",
      "15630/15630 [==============================] - 61s 4ms/step - loss: 407.9765 - root_mean_squared_error: 407.9830\n",
      "Epoch 13/30\n",
      "15630/15630 [==============================] - 62s 4ms/step - loss: 405.4580 - root_mean_squared_error: 405.4591\n",
      "Epoch 14/30\n",
      "15630/15630 [==============================] - 62s 4ms/step - loss: 404.6453 - root_mean_squared_error: 404.6422\n",
      "Epoch 15/30\n",
      "15630/15630 [==============================] - 62s 4ms/step - loss: 404.3023 - root_mean_squared_error: 404.3016\n",
      "Epoch 16/30\n",
      "15630/15630 [==============================] - 61s 4ms/step - loss: 402.5049 - root_mean_squared_error: 402.5037\n",
      "Epoch 17/30\n",
      "15630/15630 [==============================] - 61s 4ms/step - loss: 401.1500 - root_mean_squared_error: 401.1541\n",
      "Epoch 18/30\n",
      "15630/15630 [==============================] - 62s 4ms/step - loss: 400.4328 - root_mean_squared_error: 400.4305\n",
      "Epoch 19/30\n",
      "15630/15630 [==============================] - 62s 4ms/step - loss: 399.1932 - root_mean_squared_error: 399.1969\n",
      "Epoch 20/30\n",
      "15630/15630 [==============================] - 61s 4ms/step - loss: 398.6516 - root_mean_squared_error: 398.6496\n",
      "Epoch 21/30\n",
      "15630/15630 [==============================] - 61s 4ms/step - loss: 397.1467 - root_mean_squared_error: 397.1453\n",
      "Epoch 22/30\n",
      "15630/15630 [==============================] - 61s 4ms/step - loss: 395.5597 - root_mean_squared_error: 395.5570\n",
      "Epoch 23/30\n",
      "15630/15630 [==============================] - 62s 4ms/step - loss: 394.4571 - root_mean_squared_error: 394.4573\n",
      "Epoch 24/30\n",
      "15630/15630 [==============================] - 61s 4ms/step - loss: 393.3169 - root_mean_squared_error: 393.3141\n",
      "Epoch 25/30\n",
      "15630/15630 [==============================] - 61s 4ms/step - loss: 392.3255 - root_mean_squared_error: 392.3236\n",
      "Epoch 26/30\n",
      "15630/15630 [==============================] - 62s 4ms/step - loss: 390.3857 - root_mean_squared_error: 390.3838\n",
      "Epoch 27/30\n",
      "15630/15630 [==============================] - 62s 4ms/step - loss: 389.2830 - root_mean_squared_error: 389.2812\n",
      "Epoch 28/30\n",
      "15630/15630 [==============================] - 61s 4ms/step - loss: 388.5348 - root_mean_squared_error: 388.5580\n",
      "Epoch 29/30\n",
      "15630/15630 [==============================] - 61s 4ms/step - loss: 386.3873 - root_mean_squared_error: 386.3937\n",
      "Epoch 30/30\n",
      "15630/15630 [==============================] - 61s 4ms/step - loss: 385.7509 - root_mean_squared_error: 385.7491\n",
      "6699/6699 [==============================] - 4s 656us/step - loss: 428.3646 - root_mean_squared_error: 428.3450\n"
     ]
    }
   ],
   "source": [
    "model.fit(train_x, train_y, epochs=30)\n",
    "result = model.evaluate(val_x, val_y)"
   ]
  },
  {
   "attachments": {},
   "cell_type": "markdown",
   "id": "871c1660",
   "metadata": {},
   "source": [
    "### generate submission csv file"
   ]
  },
  {
   "cell_type": "code",
   "execution_count": 76,
   "id": "b458e3e8",
   "metadata": {},
   "outputs": [
    {
     "name": "stdout",
     "output_type": "stream",
     "text": [
      "10/10 [==============================] - 0s 557us/step\n"
     ]
    }
   ],
   "source": [
    "pred_csv = pred_generate_result_csv(\n",
    "                                    model = model,\n",
    "                                    test_x = test_x,\n",
    "                                    result_file_name = 'ANN_result/ANN_result_3a.csv'\n",
    "                                )"
   ]
  },
  {
   "cell_type": "code",
   "execution_count": null,
   "id": "75e93150",
   "metadata": {},
   "outputs": [],
   "source": []
  },
  {
   "attachments": {},
   "cell_type": "markdown",
   "id": "75b778c0",
   "metadata": {
    "tags": [
     "parameters"
    ]
   },
   "source": [
    "# 1b set\n",
    "\n",
    "* training set -> drop distance < 3\n",
    "\n",
    "|TAXI_ID|CALL_TYPE_STAND|month|hour|weekday|start_lon|start_lat|end_lon|end_lat|StartCluster|EndCluster|distance|\n",
    "|-------|---------------|-----|----|-------|---------|---------|-------|-------|------------|----------|--------|\n",
    "|x|one-hot|one-hot|one-hot|one-hot|x|x|x|x|freq+scaler|freq+scaler|num|"
   ]
  },
  {
   "attachments": {},
   "cell_type": "markdown",
   "id": "0f658195",
   "metadata": {},
   "source": [
    "## Read Data & Vectorize & Split"
   ]
  },
  {
   "cell_type": "code",
   "execution_count": 77,
   "id": "dd46d413",
   "metadata": {
    "tags": []
   },
   "outputs": [
    {
     "name": "stdout",
     "output_type": "stream",
     "text": [
      "train_x=  (207519, 112)\n",
      "train_y=  (207519,)\n",
      "val_x=  (88937, 112)\n",
      "val_y=  (88937,)\n",
      "test_x=  (320, 112)\n"
     ]
    }
   ],
   "source": [
    "# read data\n",
    "train_x, train_y, test_x = init_train_test_data(distance_threshold=5)\n",
    "\n",
    "# vectorize \n",
    "train_x,test_x = Vectorize_CallType(train_x, test_x)\n",
    "train_x,test_x = month_onehot(train_x,test_x)\n",
    "train_x,test_x = hour_onehot(train_x,test_x)\n",
    "train_x,test_x = week_onehot(train_x,test_x)\n",
    "train_x,test_x = Vectorize_Cluster_freq(train_x,test_x)\n",
    "\n",
    "# split\n",
    "train_x,train_y,val_x,val_y,test_x = my_train_validation_split(train_x, train_y, test_x)"
   ]
  },
  {
   "attachments": {},
   "cell_type": "markdown",
   "id": "8deb8951",
   "metadata": {},
   "source": [
    "## modeling"
   ]
  },
  {
   "attachments": {},
   "cell_type": "markdown",
   "id": "820302ed",
   "metadata": {},
   "source": [
    "### init model"
   ]
  },
  {
   "cell_type": "code",
   "execution_count": 78,
   "id": "c7745ff3",
   "metadata": {},
   "outputs": [
    {
     "name": "stdout",
     "output_type": "stream",
     "text": [
      "Model: \"sequential_11\"\n",
      "_________________________________________________________________\n",
      " Layer (type)                Output Shape              Param #   \n",
      "=================================================================\n",
      " dense_55 (Dense)            (None, 256)               28928     \n",
      "                                                                 \n",
      " dense_56 (Dense)            (None, 512)               131584    \n",
      "                                                                 \n",
      " dense_57 (Dense)            (None, 128)               65664     \n",
      "                                                                 \n",
      " dense_58 (Dense)            (None, 64)                8256      \n",
      "                                                                 \n",
      " dense_59 (Dense)            (None, 1)                 65        \n",
      "                                                                 \n",
      "=================================================================\n",
      "Total params: 234,497\n",
      "Trainable params: 234,497\n",
      "Non-trainable params: 0\n",
      "_________________________________________________________________\n"
     ]
    }
   ],
   "source": [
    "model = init_ANN_model(input_size=train_x.shape[1])"
   ]
  },
  {
   "attachments": {},
   "cell_type": "markdown",
   "id": "0b2df786",
   "metadata": {},
   "source": [
    "### training & testing(for kaggle submission)"
   ]
  },
  {
   "cell_type": "code",
   "execution_count": 79,
   "id": "adb72508",
   "metadata": {},
   "outputs": [
    {
     "name": "stdout",
     "output_type": "stream",
     "text": [
      "Epoch 1/30\n",
      "6485/6485 [==============================] - 24s 4ms/step - loss: 533.9465 - root_mean_squared_error: 533.9453\n",
      "Epoch 2/30\n",
      "6485/6485 [==============================] - 26s 4ms/step - loss: 525.4380 - root_mean_squared_error: 525.4369\n",
      "Epoch 3/30\n",
      "6485/6485 [==============================] - 25s 4ms/step - loss: 522.4161 - root_mean_squared_error: 522.4173\n",
      "Epoch 4/30\n",
      "6485/6485 [==============================] - 26s 4ms/step - loss: 519.9509 - root_mean_squared_error: 519.9501\n",
      "Epoch 5/30\n",
      "6485/6485 [==============================] - 26s 4ms/step - loss: 519.1075 - root_mean_squared_error: 519.1089\n",
      "Epoch 6/30\n",
      "6485/6485 [==============================] - 26s 4ms/step - loss: 517.2175 - root_mean_squared_error: 517.2161\n",
      "Epoch 7/30\n",
      "6485/6485 [==============================] - 26s 4ms/step - loss: 515.7556 - root_mean_squared_error: 515.7548\n",
      "Epoch 8/30\n",
      "6485/6485 [==============================] - 26s 4ms/step - loss: 514.5274 - root_mean_squared_error: 514.5269\n",
      "Epoch 9/30\n",
      "6485/6485 [==============================] - 26s 4ms/step - loss: 513.5441 - root_mean_squared_error: 513.5436\n",
      "Epoch 10/30\n",
      "6485/6485 [==============================] - 26s 4ms/step - loss: 513.6094 - root_mean_squared_error: 513.6085\n",
      "Epoch 11/30\n",
      "6485/6485 [==============================] - 26s 4ms/step - loss: 513.1724 - root_mean_squared_error: 513.1714\n",
      "Epoch 12/30\n",
      "6485/6485 [==============================] - 26s 4ms/step - loss: 512.2258 - root_mean_squared_error: 512.2244\n",
      "Epoch 13/30\n",
      "6485/6485 [==============================] - 26s 4ms/step - loss: 511.5372 - root_mean_squared_error: 511.5360\n",
      "Epoch 14/30\n",
      "6485/6485 [==============================] - 26s 4ms/step - loss: 510.3576 - root_mean_squared_error: 510.3619\n",
      "Epoch 15/30\n",
      "6485/6485 [==============================] - 25s 4ms/step - loss: 510.7623 - root_mean_squared_error: 510.7623\n",
      "Epoch 16/30\n",
      "6485/6485 [==============================] - 26s 4ms/step - loss: 509.3474 - root_mean_squared_error: 509.3466\n",
      "Epoch 17/30\n",
      "6485/6485 [==============================] - 26s 4ms/step - loss: 508.3526 - root_mean_squared_error: 508.3525\n",
      "Epoch 18/30\n",
      "6485/6485 [==============================] - 25s 4ms/step - loss: 509.0392 - root_mean_squared_error: 509.0384\n",
      "Epoch 19/30\n",
      "6485/6485 [==============================] - 26s 4ms/step - loss: 508.0191 - root_mean_squared_error: 508.0194\n",
      "Epoch 20/30\n",
      "6485/6485 [==============================] - 25s 4ms/step - loss: 507.9412 - root_mean_squared_error: 507.9399\n",
      "Epoch 21/30\n",
      "6485/6485 [==============================] - 26s 4ms/step - loss: 506.2652 - root_mean_squared_error: 506.2646\n",
      "Epoch 22/30\n",
      "6485/6485 [==============================] - 26s 4ms/step - loss: 506.5995 - root_mean_squared_error: 506.5982\n",
      "Epoch 23/30\n",
      "6485/6485 [==============================] - 26s 4ms/step - loss: 506.6268 - root_mean_squared_error: 506.6292\n",
      "Epoch 24/30\n",
      "6485/6485 [==============================] - 26s 4ms/step - loss: 505.6345 - root_mean_squared_error: 505.6335\n",
      "Epoch 25/30\n",
      "6485/6485 [==============================] - 26s 4ms/step - loss: 505.4142 - root_mean_squared_error: 505.4149\n",
      "Epoch 26/30\n",
      "6485/6485 [==============================] - 26s 4ms/step - loss: 504.9536 - root_mean_squared_error: 504.9531\n",
      "Epoch 27/30\n",
      "6485/6485 [==============================] - 26s 4ms/step - loss: 504.6338 - root_mean_squared_error: 504.6338\n",
      "Epoch 28/30\n",
      "6485/6485 [==============================] - 26s 4ms/step - loss: 504.1902 - root_mean_squared_error: 504.1902\n",
      "Epoch 29/30\n",
      "6485/6485 [==============================] - 26s 4ms/step - loss: 503.6705 - root_mean_squared_error: 503.6697\n",
      "Epoch 30/30\n",
      "6485/6485 [==============================] - 26s 4ms/step - loss: 504.8818 - root_mean_squared_error: 504.8820\n",
      "2780/2780 [==============================] - 2s 551us/step - loss: 528.9601 - root_mean_squared_error: 528.9080\n"
     ]
    }
   ],
   "source": [
    "model.fit(train_x, train_y, epochs=30)\n",
    "result = model.evaluate(val_x, val_y)"
   ]
  },
  {
   "attachments": {},
   "cell_type": "markdown",
   "id": "871c1660",
   "metadata": {},
   "source": [
    "### generate submission csv file"
   ]
  },
  {
   "cell_type": "code",
   "execution_count": 80,
   "id": "b458e3e8",
   "metadata": {},
   "outputs": [
    {
     "name": "stdout",
     "output_type": "stream",
     "text": [
      "10/10 [==============================] - 0s 498us/step\n"
     ]
    }
   ],
   "source": [
    "pred_csv = pred_generate_result_csv(\n",
    "                                    model = model,\n",
    "                                    test_x = test_x,\n",
    "                                    result_file_name = 'ANN_result/ANN_result_1b.csv'\n",
    "                                )"
   ]
  },
  {
   "cell_type": "code",
   "execution_count": null,
   "id": "7ec0c79a",
   "metadata": {},
   "outputs": [],
   "source": []
  },
  {
   "attachments": {},
   "cell_type": "markdown",
   "id": "94633ac2",
   "metadata": {},
   "source": [
    "# 2b set\n",
    "\n",
    "* training set -> drop distance < 5\n",
    "\n",
    "\n",
    "|TAXI_ID|CALL_TYPE_STAND|month|hour|weekday|start_lon|start_lat|end_lon|end_lat|StartCluster|EndCluster|distance|\n",
    "|-------|---------------|-----|----|-------|---------|---------|-------|-------|------------|----------|--------|\n",
    "|x|one-hot|one-hot|one-hot|one-hot|x|x|x|x|one-hot|one-hot|num|"
   ]
  },
  {
   "attachments": {},
   "cell_type": "markdown",
   "id": "0f658195",
   "metadata": {},
   "source": [
    "## Read Data & Vectorize & Split"
   ]
  },
  {
   "cell_type": "code",
   "execution_count": 14,
   "id": "dd46d413",
   "metadata": {
    "tags": []
   },
   "outputs": [
    {
     "name": "stdout",
     "output_type": "stream",
     "text": [
      "train_x=  (207519, 207)\n",
      "train_y=  (207519,)\n",
      "val_x=  (88937, 207)\n",
      "val_y=  (88937,)\n",
      "test_x=  (320, 207)\n"
     ]
    }
   ],
   "source": [
    "# read data\n",
    "train_x, train_y, test_x = init_train_test_data(distance_threshold=5)\n",
    "\n",
    "# vectorize \n",
    "train_x,test_x = Vectorize_CallType(train_x, test_x)\n",
    "train_x,test_x = month_onehot(train_x,test_x)\n",
    "train_x,test_x = hour_onehot(train_x,test_x)\n",
    "train_x,test_x = week_onehot(train_x,test_x)\n",
    "train_x,test_x = Vectorize_Cluster_onehot(train_x,test_x,'StartCluster')\n",
    "train_x,test_x = Vectorize_Cluster_onehot(train_x,test_x,'EndCluster')\n",
    "\n",
    "# split\n",
    "train_x,train_y,val_x,val_y,test_x = my_train_validation_split(train_x, train_y, test_x)"
   ]
  },
  {
   "attachments": {},
   "cell_type": "markdown",
   "id": "8deb8951",
   "metadata": {},
   "source": [
    "## modeling"
   ]
  },
  {
   "attachments": {},
   "cell_type": "markdown",
   "id": "820302ed",
   "metadata": {},
   "source": [
    "### init model"
   ]
  },
  {
   "cell_type": "code",
   "execution_count": 16,
   "id": "c7745ff3",
   "metadata": {},
   "outputs": [
    {
     "name": "stdout",
     "output_type": "stream",
     "text": [
      "Model: \"sequential_1\"\n",
      "_________________________________________________________________\n",
      " Layer (type)                Output Shape              Param #   \n",
      "=================================================================\n",
      " dense_5 (Dense)             (None, 256)               53248     \n",
      "                                                                 \n",
      " dense_6 (Dense)             (None, 512)               131584    \n",
      "                                                                 \n",
      " dense_7 (Dense)             (None, 128)               65664     \n",
      "                                                                 \n",
      " dense_8 (Dense)             (None, 64)                8256      \n",
      "                                                                 \n",
      " dense_9 (Dense)             (None, 1)                 65        \n",
      "                                                                 \n",
      "=================================================================\n",
      "Total params: 258,817\n",
      "Trainable params: 258,817\n",
      "Non-trainable params: 0\n",
      "_________________________________________________________________\n"
     ]
    }
   ],
   "source": [
    "model = init_ANN_model(input_size=train_x.shape[1])"
   ]
  },
  {
   "attachments": {},
   "cell_type": "markdown",
   "id": "0b2df786",
   "metadata": {},
   "source": [
    "### training & testing(for kaggle submission)"
   ]
  },
  {
   "cell_type": "code",
   "execution_count": 17,
   "id": "adb72508",
   "metadata": {},
   "outputs": [
    {
     "name": "stdout",
     "output_type": "stream",
     "text": [
      "Epoch 1/30\n",
      "6485/6485 [==============================] - 27s 4ms/step - loss: 525.9812 - root_mean_squared_error: 525.9805\n",
      "Epoch 2/30\n",
      "6485/6485 [==============================] - 25s 4ms/step - loss: 511.2585 - root_mean_squared_error: 511.2592\n",
      "Epoch 3/30\n",
      "6485/6485 [==============================] - 24s 4ms/step - loss: 508.4465 - root_mean_squared_error: 508.4459\n",
      "Epoch 4/30\n",
      "6485/6485 [==============================] - 26s 4ms/step - loss: 504.0626 - root_mean_squared_error: 504.0613\n",
      "Epoch 5/30\n",
      "6485/6485 [==============================] - 26s 4ms/step - loss: 500.2909 - root_mean_squared_error: 500.2901\n",
      "Epoch 6/30\n",
      "6485/6485 [==============================] - 26s 4ms/step - loss: 499.2749 - root_mean_squared_error: 499.2750\n",
      "Epoch 7/30\n",
      "6485/6485 [==============================] - 25s 4ms/step - loss: 497.1630 - root_mean_squared_error: 497.1627\n",
      "Epoch 8/30\n",
      "6485/6485 [==============================] - 26s 4ms/step - loss: 495.4116 - root_mean_squared_error: 495.4107\n",
      "Epoch 9/30\n",
      "6485/6485 [==============================] - 25s 4ms/step - loss: 493.0424 - root_mean_squared_error: 493.0416\n",
      "Epoch 10/30\n",
      "6485/6485 [==============================] - 26s 4ms/step - loss: 491.5871 - root_mean_squared_error: 491.5862\n",
      "Epoch 11/30\n",
      "6485/6485 [==============================] - 25s 4ms/step - loss: 488.3409 - root_mean_squared_error: 488.3452\n",
      "Epoch 12/30\n",
      "6485/6485 [==============================] - 26s 4ms/step - loss: 487.1082 - root_mean_squared_error: 487.1072\n",
      "Epoch 13/30\n",
      "6485/6485 [==============================] - 25s 4ms/step - loss: 484.9216 - root_mean_squared_error: 484.9276\n",
      "Epoch 14/30\n",
      "6485/6485 [==============================] - 25s 4ms/step - loss: 483.2465 - root_mean_squared_error: 483.2461\n",
      "Epoch 15/30\n",
      "6485/6485 [==============================] - 25s 4ms/step - loss: 481.0667 - root_mean_squared_error: 481.0665\n",
      "Epoch 16/30\n",
      "6485/6485 [==============================] - 26s 4ms/step - loss: 477.6441 - root_mean_squared_error: 477.6432\n",
      "Epoch 17/30\n",
      "6485/6485 [==============================] - 26s 4ms/step - loss: 476.4529 - root_mean_squared_error: 476.4524\n",
      "Epoch 18/30\n",
      "6485/6485 [==============================] - 25s 4ms/step - loss: 474.6284 - root_mean_squared_error: 474.6277\n",
      "Epoch 19/30\n",
      "6485/6485 [==============================] - 25s 4ms/step - loss: 471.1592 - root_mean_squared_error: 471.1587\n",
      "Epoch 20/30\n",
      "6485/6485 [==============================] - 25s 4ms/step - loss: 468.5468 - root_mean_squared_error: 468.5486\n",
      "Epoch 21/30\n",
      "6485/6485 [==============================] - 25s 4ms/step - loss: 467.8807 - root_mean_squared_error: 467.8800\n",
      "Epoch 22/30\n",
      "6485/6485 [==============================] - 25s 4ms/step - loss: 464.1653 - root_mean_squared_error: 464.1646\n",
      "Epoch 23/30\n",
      "6485/6485 [==============================] - 25s 4ms/step - loss: 463.5445 - root_mean_squared_error: 463.5439\n",
      "Epoch 24/30\n",
      "6485/6485 [==============================] - 25s 4ms/step - loss: 459.2135 - root_mean_squared_error: 459.2137\n",
      "Epoch 25/30\n",
      "6485/6485 [==============================] - 26s 4ms/step - loss: 457.0583 - root_mean_squared_error: 457.0571\n",
      "Epoch 26/30\n",
      "6485/6485 [==============================] - 26s 4ms/step - loss: 455.1602 - root_mean_squared_error: 455.1647\n",
      "Epoch 27/30\n",
      "6485/6485 [==============================] - 26s 4ms/step - loss: 452.9711 - root_mean_squared_error: 452.9742\n",
      "Epoch 28/30\n",
      "6485/6485 [==============================] - 25s 4ms/step - loss: 449.9326 - root_mean_squared_error: 449.9322\n",
      "Epoch 29/30\n",
      "6485/6485 [==============================] - 26s 4ms/step - loss: 448.4001 - root_mean_squared_error: 448.3992\n",
      "Epoch 30/30\n",
      "6485/6485 [==============================] - 25s 4ms/step - loss: 447.2449 - root_mean_squared_error: 447.2445\n",
      "2780/2780 [==============================] - 2s 595us/step - loss: 543.2473 - root_mean_squared_error: 543.1806\n"
     ]
    }
   ],
   "source": [
    "model.fit(train_x, train_y, epochs=30)\n",
    "result = model.evaluate(val_x, val_y)"
   ]
  },
  {
   "attachments": {},
   "cell_type": "markdown",
   "id": "871c1660",
   "metadata": {},
   "source": [
    "### generate submission csv file"
   ]
  },
  {
   "cell_type": "code",
   "execution_count": 18,
   "id": "b458e3e8",
   "metadata": {},
   "outputs": [
    {
     "name": "stdout",
     "output_type": "stream",
     "text": [
      "10/10 [==============================] - 0s 846us/step\n"
     ]
    }
   ],
   "source": [
    "pred_csv = pred_generate_result_csv(\n",
    "                                    model = model,\n",
    "                                    test_x = test_x,\n",
    "                                    result_file_name = 'ANN_result/ANN_result_2b.csv'\n",
    "                                )"
   ]
  }
 ],
 "metadata": {
  "kernelspec": {
   "display_name": "yenho",
   "language": "python",
   "name": "python3"
  },
  "language_info": {
   "codemirror_mode": {
    "name": "ipython",
    "version": 3
   },
   "file_extension": ".py",
   "mimetype": "text/x-python",
   "name": "python",
   "nbconvert_exporter": "python",
   "pygments_lexer": "ipython3",
   "version": "3.10.8 (main, Nov  4 2022, 13:48:29) [GCC 11.2.0]"
  },
  "vscode": {
   "interpreter": {
    "hash": "1a04660ba35f143b12381d39bd59efae17d696f3bd8e2f5d3aa4628a6f72f105"
   }
  }
 },
 "nbformat": 4,
 "nbformat_minor": 5
}
